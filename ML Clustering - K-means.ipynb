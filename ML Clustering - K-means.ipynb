{
 "cells": [
  {
   "cell_type": "code",
   "execution_count": 1,
   "metadata": {},
   "outputs": [],
   "source": [
    "import pandas as pd\n",
    "import plotly.express as px\n",
    "import plotly.express as px\n",
    "from sklearn.cluster import KMeans\n",
    "from sklearn.metrics import silhouette_score\n",
    "from sklearn.preprocessing import MinMaxScaler, StandardScaler,  RobustScaler"
   ]
  },
  {
   "cell_type": "code",
   "execution_count": 2,
   "metadata": {},
   "outputs": [],
   "source": [
    "import mes_modules.module_dataviz as viz\n",
    "import mes_modules.module_explore_clean as explore\n",
    "import  mes_modules.module_ml as model "
   ]
  },
  {
   "cell_type": "code",
   "execution_count": 3,
   "metadata": {},
   "outputs": [],
   "source": [
    "link = \"https://raw.githubusercontent.com/mwaskom/seaborn-data/master/iris.csv\"\n",
    "df = pd.read_csv(link)"
   ]
  },
  {
   "cell_type": "code",
   "execution_count": 4,
   "metadata": {},
   "outputs": [
    {
     "name": "stdout",
     "output_type": "stream",
     "text": [
      "###### Observer des lignes ######\n"
     ]
    },
    {
     "data": {
      "text/html": [
       "<div>\n",
       "<style scoped>\n",
       "    .dataframe tbody tr th:only-of-type {\n",
       "        vertical-align: middle;\n",
       "    }\n",
       "\n",
       "    .dataframe tbody tr th {\n",
       "        vertical-align: top;\n",
       "    }\n",
       "\n",
       "    .dataframe thead th {\n",
       "        text-align: right;\n",
       "    }\n",
       "</style>\n",
       "<table border=\"1\" class=\"dataframe\">\n",
       "  <thead>\n",
       "    <tr style=\"text-align: right;\">\n",
       "      <th></th>\n",
       "      <th>sepal_length</th>\n",
       "      <th>sepal_width</th>\n",
       "      <th>petal_length</th>\n",
       "      <th>petal_width</th>\n",
       "      <th>species</th>\n",
       "    </tr>\n",
       "  </thead>\n",
       "  <tbody>\n",
       "    <tr>\n",
       "      <th>0</th>\n",
       "      <td>5.1</td>\n",
       "      <td>3.5</td>\n",
       "      <td>1.4</td>\n",
       "      <td>0.2</td>\n",
       "      <td>setosa</td>\n",
       "    </tr>\n",
       "    <tr>\n",
       "      <th>1</th>\n",
       "      <td>4.9</td>\n",
       "      <td>3.0</td>\n",
       "      <td>1.4</td>\n",
       "      <td>0.2</td>\n",
       "      <td>setosa</td>\n",
       "    </tr>\n",
       "    <tr>\n",
       "      <th>2</th>\n",
       "      <td>4.7</td>\n",
       "      <td>3.2</td>\n",
       "      <td>1.3</td>\n",
       "      <td>0.2</td>\n",
       "      <td>setosa</td>\n",
       "    </tr>\n",
       "    <tr>\n",
       "      <th>3</th>\n",
       "      <td>4.6</td>\n",
       "      <td>3.1</td>\n",
       "      <td>1.5</td>\n",
       "      <td>0.2</td>\n",
       "      <td>setosa</td>\n",
       "    </tr>\n",
       "    <tr>\n",
       "      <th>4</th>\n",
       "      <td>5.0</td>\n",
       "      <td>3.6</td>\n",
       "      <td>1.4</td>\n",
       "      <td>0.2</td>\n",
       "      <td>setosa</td>\n",
       "    </tr>\n",
       "    <tr>\n",
       "      <th>5</th>\n",
       "      <td>5.4</td>\n",
       "      <td>3.9</td>\n",
       "      <td>1.7</td>\n",
       "      <td>0.4</td>\n",
       "      <td>setosa</td>\n",
       "    </tr>\n",
       "    <tr>\n",
       "      <th>6</th>\n",
       "      <td>4.6</td>\n",
       "      <td>3.4</td>\n",
       "      <td>1.4</td>\n",
       "      <td>0.3</td>\n",
       "      <td>setosa</td>\n",
       "    </tr>\n",
       "    <tr>\n",
       "      <th>7</th>\n",
       "      <td>5.0</td>\n",
       "      <td>3.4</td>\n",
       "      <td>1.5</td>\n",
       "      <td>0.2</td>\n",
       "      <td>setosa</td>\n",
       "    </tr>\n",
       "    <tr>\n",
       "      <th>8</th>\n",
       "      <td>4.4</td>\n",
       "      <td>2.9</td>\n",
       "      <td>1.4</td>\n",
       "      <td>0.2</td>\n",
       "      <td>setosa</td>\n",
       "    </tr>\n",
       "    <tr>\n",
       "      <th>9</th>\n",
       "      <td>4.9</td>\n",
       "      <td>3.1</td>\n",
       "      <td>1.5</td>\n",
       "      <td>0.1</td>\n",
       "      <td>setosa</td>\n",
       "    </tr>\n",
       "  </tbody>\n",
       "</table>\n",
       "</div>"
      ],
      "text/plain": [
       "   sepal_length  sepal_width  petal_length  petal_width species\n",
       "0           5.1          3.5           1.4          0.2  setosa\n",
       "1           4.9          3.0           1.4          0.2  setosa\n",
       "2           4.7          3.2           1.3          0.2  setosa\n",
       "3           4.6          3.1           1.5          0.2  setosa\n",
       "4           5.0          3.6           1.4          0.2  setosa\n",
       "5           5.4          3.9           1.7          0.4  setosa\n",
       "6           4.6          3.4           1.4          0.3  setosa\n",
       "7           5.0          3.4           1.5          0.2  setosa\n",
       "8           4.4          2.9           1.4          0.2  setosa\n",
       "9           4.9          3.1           1.5          0.1  setosa"
      ]
     },
     "metadata": {},
     "output_type": "display_data"
    },
    {
     "name": "stdout",
     "output_type": "stream",
     "text": [
      "###### Dimensions du dataset ######\n",
      "Lignes : 150, Colonnes : 5\n",
      "\n",
      "###### Informations sur les colonnes ######\n",
      "<class 'pandas.core.frame.DataFrame'>\n",
      "RangeIndex: 150 entries, 0 to 149\n",
      "Data columns (total 5 columns):\n",
      " #   Column        Non-Null Count  Dtype  \n",
      "---  ------        --------------  -----  \n",
      " 0   sepal_length  150 non-null    float64\n",
      " 1   sepal_width   150 non-null    float64\n",
      " 2   petal_length  150 non-null    float64\n",
      " 3   petal_width   150 non-null    float64\n",
      " 4   species       150 non-null    object \n",
      "dtypes: float64(4), object(1)\n",
      "memory usage: 6.0+ KB\n",
      "None \n",
      "\n",
      "['sepal_length', 'sepal_width', 'petal_length', 'petal_width', 'species']\n",
      "\n",
      "###### Nombre de valeurs uniques par colonne ######\n",
      "sepal_length    35\n",
      "sepal_width     23\n",
      "petal_length    43\n",
      "petal_width     22\n",
      "species          3\n",
      "dtype: int64 \n",
      "\n",
      "###### Description des colonnes numériques ######\n",
      "|              |   count |    mean |      std |   min |   10% |   20% |   30% |   40% |   50% |   60% |   70% |   80% |   90% |   max |\n",
      "|:-------------|--------:|--------:|---------:|------:|------:|------:|------:|------:|------:|------:|------:|------:|------:|------:|\n",
      "| sepal_length |     150 | 5.84333 | 0.828066 |   4.3 |   4.8 |   5   |  5.27 |  5.6  |  5.8  |  6.1  |   6.3 |  6.52 |  6.9  |   7.9 |\n",
      "| sepal_width  |     150 | 3.05733 | 0.435866 |   2   |   2.5 |   2.7 |  2.8  |  3    |  3    |  3.1  |   3.2 |  3.4  |  3.61 |   4.4 |\n",
      "| petal_length |     150 | 3.758   | 1.7653   |   1   |   1.4 |   1.5 |  1.7  |  3.9  |  4.35 |  4.64 |   5   |  5.32 |  5.8  |   6.9 |\n",
      "| petal_width  |     150 | 1.19933 | 0.762238 |   0.1 |   0.2 |   0.2 |  0.4  |  1.16 |  1.3  |  1.5  |   1.8 |  1.9  |  2.2  |   2.5 | \n",
      "\n",
      "###### Pourcentage de NaN par colonne ######\n",
      "Series([], dtype: float64) \n",
      "\n",
      "###### Nombre de doublons ######\n",
      "1 doublon(s) trouvé(s).\n",
      "\n"
     ]
    }
   ],
   "source": [
    "explore.quick_explore(df)"
   ]
  },
  {
   "cell_type": "markdown",
   "metadata": {},
   "source": [
    "### Jeu de données Iris - Description\n",
    "\n",
    "Le **jeu de données Iris** contient des mesures de trois espèces d'iris. Voici la description de chaque colonne :\n",
    "\n",
    "#### Colonnes :\n",
    "1. **sepal_length** :  \n",
    "   La longueur du sépale (partie extérieure de la fleur) mesurée en centimètres.\n",
    "\n",
    "2. **sepal_width** :  \n",
    "   La largeur du sépale mesurée en centimètres.\n",
    "\n",
    "3. **petal_length** :  \n",
    "   La longueur du pétale (partie intérieure de la fleur) mesurée en centimètres.\n",
    "\n",
    "4. **petal_width** :  \n",
    "   La largeur du pétale mesurée en centimètres.\n",
    "\n",
    "5. **specie** :  \n",
    "   L'espèce de la fleur d'iris. Les espèces incluent :\n",
    "   - *Iris setosa* : Petites fleurs avec des pétales rosés.\n",
    "   - *Iris versicolor* : Fleurs de taille moyenne avec des pétales violets.\n",
    "   - *Iris virginica* : Grandes fleurs avec des pétales pourpres.\n",
    "\n",
    "6. **description** :  \n",
    "   Métadonnées supplémentaires ou informations textuelles sur les espèces, comme la couleur, la taille ou d'autres caractéristiques notables.\n"
   ]
  },
  {
   "cell_type": "code",
   "execution_count": 5,
   "metadata": {},
   "outputs": [
    {
     "data": {
      "application/vnd.plotly.v1+json": {
       "config": {
        "plotlyServerURL": "https://plot.ly"
       },
       "data": [
        {
         "hovertemplate": "sepal_length=%{x}<br>sepal_width=%{y}<br>petal_length=%{z}<extra></extra>",
         "legendgroup": "",
         "marker": {
          "color": "#636efa",
          "symbol": "circle"
         },
         "mode": "markers",
         "name": "",
         "scene": "scene",
         "showlegend": false,
         "type": "scatter3d",
         "x": [
          5.1,
          4.9,
          4.7,
          4.6,
          5,
          5.4,
          4.6,
          5,
          4.4,
          4.9,
          5.4,
          4.8,
          4.8,
          4.3,
          5.8,
          5.7,
          5.4,
          5.1,
          5.7,
          5.1,
          5.4,
          5.1,
          4.6,
          5.1,
          4.8,
          5,
          5,
          5.2,
          5.2,
          4.7,
          4.8,
          5.4,
          5.2,
          5.5,
          4.9,
          5,
          5.5,
          4.9,
          4.4,
          5.1,
          5,
          4.5,
          4.4,
          5,
          5.1,
          4.8,
          5.1,
          4.6,
          5.3,
          5,
          7,
          6.4,
          6.9,
          5.5,
          6.5,
          5.7,
          6.3,
          4.9,
          6.6,
          5.2,
          5,
          5.9,
          6,
          6.1,
          5.6,
          6.7,
          5.6,
          5.8,
          6.2,
          5.6,
          5.9,
          6.1,
          6.3,
          6.1,
          6.4,
          6.6,
          6.8,
          6.7,
          6,
          5.7,
          5.5,
          5.5,
          5.8,
          6,
          5.4,
          6,
          6.7,
          6.3,
          5.6,
          5.5,
          5.5,
          6.1,
          5.8,
          5,
          5.6,
          5.7,
          5.7,
          6.2,
          5.1,
          5.7,
          6.3,
          5.8,
          7.1,
          6.3,
          6.5,
          7.6,
          4.9,
          7.3,
          6.7,
          7.2,
          6.5,
          6.4,
          6.8,
          5.7,
          5.8,
          6.4,
          6.5,
          7.7,
          7.7,
          6,
          6.9,
          5.6,
          7.7,
          6.3,
          6.7,
          7.2,
          6.2,
          6.1,
          6.4,
          7.2,
          7.4,
          7.9,
          6.4,
          6.3,
          6.1,
          7.7,
          6.3,
          6.4,
          6,
          6.9,
          6.7,
          6.9,
          5.8,
          6.8,
          6.7,
          6.7,
          6.3,
          6.5,
          6.2,
          5.9
         ],
         "y": [
          3.5,
          3,
          3.2,
          3.1,
          3.6,
          3.9,
          3.4,
          3.4,
          2.9,
          3.1,
          3.7,
          3.4,
          3,
          3,
          4,
          4.4,
          3.9,
          3.5,
          3.8,
          3.8,
          3.4,
          3.7,
          3.6,
          3.3,
          3.4,
          3,
          3.4,
          3.5,
          3.4,
          3.2,
          3.1,
          3.4,
          4.1,
          4.2,
          3.1,
          3.2,
          3.5,
          3.6,
          3,
          3.4,
          3.5,
          2.3,
          3.2,
          3.5,
          3.8,
          3,
          3.8,
          3.2,
          3.7,
          3.3,
          3.2,
          3.2,
          3.1,
          2.3,
          2.8,
          2.8,
          3.3,
          2.4,
          2.9,
          2.7,
          2,
          3,
          2.2,
          2.9,
          2.9,
          3.1,
          3,
          2.7,
          2.2,
          2.5,
          3.2,
          2.8,
          2.5,
          2.8,
          2.9,
          3,
          2.8,
          3,
          2.9,
          2.6,
          2.4,
          2.4,
          2.7,
          2.7,
          3,
          3.4,
          3.1,
          2.3,
          3,
          2.5,
          2.6,
          3,
          2.6,
          2.3,
          2.7,
          3,
          2.9,
          2.9,
          2.5,
          2.8,
          3.3,
          2.7,
          3,
          2.9,
          3,
          3,
          2.5,
          2.9,
          2.5,
          3.6,
          3.2,
          2.7,
          3,
          2.5,
          2.8,
          3.2,
          3,
          3.8,
          2.6,
          2.2,
          3.2,
          2.8,
          2.8,
          2.7,
          3.3,
          3.2,
          2.8,
          3,
          2.8,
          3,
          2.8,
          3.8,
          2.8,
          2.8,
          2.6,
          3,
          3.4,
          3.1,
          3,
          3.1,
          3.1,
          3.1,
          2.7,
          3.2,
          3.3,
          3,
          2.5,
          3,
          3.4,
          3
         ],
         "z": [
          1.4,
          1.4,
          1.3,
          1.5,
          1.4,
          1.7,
          1.4,
          1.5,
          1.4,
          1.5,
          1.5,
          1.6,
          1.4,
          1.1,
          1.2,
          1.5,
          1.3,
          1.4,
          1.7,
          1.5,
          1.7,
          1.5,
          1,
          1.7,
          1.9,
          1.6,
          1.6,
          1.5,
          1.4,
          1.6,
          1.6,
          1.5,
          1.5,
          1.4,
          1.5,
          1.2,
          1.3,
          1.4,
          1.3,
          1.5,
          1.3,
          1.3,
          1.3,
          1.6,
          1.9,
          1.4,
          1.6,
          1.4,
          1.5,
          1.4,
          4.7,
          4.5,
          4.9,
          4,
          4.6,
          4.5,
          4.7,
          3.3,
          4.6,
          3.9,
          3.5,
          4.2,
          4,
          4.7,
          3.6,
          4.4,
          4.5,
          4.1,
          4.5,
          3.9,
          4.8,
          4,
          4.9,
          4.7,
          4.3,
          4.4,
          4.8,
          5,
          4.5,
          3.5,
          3.8,
          3.7,
          3.9,
          5.1,
          4.5,
          4.5,
          4.7,
          4.4,
          4.1,
          4,
          4.4,
          4.6,
          4,
          3.3,
          4.2,
          4.2,
          4.2,
          4.3,
          3,
          4.1,
          6,
          5.1,
          5.9,
          5.6,
          5.8,
          6.6,
          4.5,
          6.3,
          5.8,
          6.1,
          5.1,
          5.3,
          5.5,
          5,
          5.1,
          5.3,
          5.5,
          6.7,
          6.9,
          5,
          5.7,
          4.9,
          6.7,
          4.9,
          5.7,
          6,
          4.8,
          4.9,
          5.6,
          5.8,
          6.1,
          6.4,
          5.6,
          5.1,
          5.6,
          6.1,
          5.6,
          5.5,
          4.8,
          5.4,
          5.6,
          5.1,
          5.1,
          5.9,
          5.7,
          5.2,
          5,
          5.2,
          5.4,
          5.1
         ]
        }
       ],
       "layout": {
        "legend": {
         "tracegroupgap": 0
        },
        "margin": {
         "t": 60
        },
        "scene": {
         "domain": {
          "x": [
           0,
           1
          ],
          "y": [
           0,
           1
          ]
         },
         "xaxis": {
          "title": {
           "text": "sepal_length"
          }
         },
         "yaxis": {
          "title": {
           "text": "sepal_width"
          }
         },
         "zaxis": {
          "title": {
           "text": "petal_length"
          }
         }
        },
        "template": {
         "data": {
          "bar": [
           {
            "error_x": {
             "color": "#2a3f5f"
            },
            "error_y": {
             "color": "#2a3f5f"
            },
            "marker": {
             "line": {
              "color": "#E5ECF6",
              "width": 0.5
             },
             "pattern": {
              "fillmode": "overlay",
              "size": 10,
              "solidity": 0.2
             }
            },
            "type": "bar"
           }
          ],
          "barpolar": [
           {
            "marker": {
             "line": {
              "color": "#E5ECF6",
              "width": 0.5
             },
             "pattern": {
              "fillmode": "overlay",
              "size": 10,
              "solidity": 0.2
             }
            },
            "type": "barpolar"
           }
          ],
          "carpet": [
           {
            "aaxis": {
             "endlinecolor": "#2a3f5f",
             "gridcolor": "white",
             "linecolor": "white",
             "minorgridcolor": "white",
             "startlinecolor": "#2a3f5f"
            },
            "baxis": {
             "endlinecolor": "#2a3f5f",
             "gridcolor": "white",
             "linecolor": "white",
             "minorgridcolor": "white",
             "startlinecolor": "#2a3f5f"
            },
            "type": "carpet"
           }
          ],
          "choropleth": [
           {
            "colorbar": {
             "outlinewidth": 0,
             "ticks": ""
            },
            "type": "choropleth"
           }
          ],
          "contour": [
           {
            "colorbar": {
             "outlinewidth": 0,
             "ticks": ""
            },
            "colorscale": [
             [
              0,
              "#0d0887"
             ],
             [
              0.1111111111111111,
              "#46039f"
             ],
             [
              0.2222222222222222,
              "#7201a8"
             ],
             [
              0.3333333333333333,
              "#9c179e"
             ],
             [
              0.4444444444444444,
              "#bd3786"
             ],
             [
              0.5555555555555556,
              "#d8576b"
             ],
             [
              0.6666666666666666,
              "#ed7953"
             ],
             [
              0.7777777777777778,
              "#fb9f3a"
             ],
             [
              0.8888888888888888,
              "#fdca26"
             ],
             [
              1,
              "#f0f921"
             ]
            ],
            "type": "contour"
           }
          ],
          "contourcarpet": [
           {
            "colorbar": {
             "outlinewidth": 0,
             "ticks": ""
            },
            "type": "contourcarpet"
           }
          ],
          "heatmap": [
           {
            "colorbar": {
             "outlinewidth": 0,
             "ticks": ""
            },
            "colorscale": [
             [
              0,
              "#0d0887"
             ],
             [
              0.1111111111111111,
              "#46039f"
             ],
             [
              0.2222222222222222,
              "#7201a8"
             ],
             [
              0.3333333333333333,
              "#9c179e"
             ],
             [
              0.4444444444444444,
              "#bd3786"
             ],
             [
              0.5555555555555556,
              "#d8576b"
             ],
             [
              0.6666666666666666,
              "#ed7953"
             ],
             [
              0.7777777777777778,
              "#fb9f3a"
             ],
             [
              0.8888888888888888,
              "#fdca26"
             ],
             [
              1,
              "#f0f921"
             ]
            ],
            "type": "heatmap"
           }
          ],
          "heatmapgl": [
           {
            "colorbar": {
             "outlinewidth": 0,
             "ticks": ""
            },
            "colorscale": [
             [
              0,
              "#0d0887"
             ],
             [
              0.1111111111111111,
              "#46039f"
             ],
             [
              0.2222222222222222,
              "#7201a8"
             ],
             [
              0.3333333333333333,
              "#9c179e"
             ],
             [
              0.4444444444444444,
              "#bd3786"
             ],
             [
              0.5555555555555556,
              "#d8576b"
             ],
             [
              0.6666666666666666,
              "#ed7953"
             ],
             [
              0.7777777777777778,
              "#fb9f3a"
             ],
             [
              0.8888888888888888,
              "#fdca26"
             ],
             [
              1,
              "#f0f921"
             ]
            ],
            "type": "heatmapgl"
           }
          ],
          "histogram": [
           {
            "marker": {
             "pattern": {
              "fillmode": "overlay",
              "size": 10,
              "solidity": 0.2
             }
            },
            "type": "histogram"
           }
          ],
          "histogram2d": [
           {
            "colorbar": {
             "outlinewidth": 0,
             "ticks": ""
            },
            "colorscale": [
             [
              0,
              "#0d0887"
             ],
             [
              0.1111111111111111,
              "#46039f"
             ],
             [
              0.2222222222222222,
              "#7201a8"
             ],
             [
              0.3333333333333333,
              "#9c179e"
             ],
             [
              0.4444444444444444,
              "#bd3786"
             ],
             [
              0.5555555555555556,
              "#d8576b"
             ],
             [
              0.6666666666666666,
              "#ed7953"
             ],
             [
              0.7777777777777778,
              "#fb9f3a"
             ],
             [
              0.8888888888888888,
              "#fdca26"
             ],
             [
              1,
              "#f0f921"
             ]
            ],
            "type": "histogram2d"
           }
          ],
          "histogram2dcontour": [
           {
            "colorbar": {
             "outlinewidth": 0,
             "ticks": ""
            },
            "colorscale": [
             [
              0,
              "#0d0887"
             ],
             [
              0.1111111111111111,
              "#46039f"
             ],
             [
              0.2222222222222222,
              "#7201a8"
             ],
             [
              0.3333333333333333,
              "#9c179e"
             ],
             [
              0.4444444444444444,
              "#bd3786"
             ],
             [
              0.5555555555555556,
              "#d8576b"
             ],
             [
              0.6666666666666666,
              "#ed7953"
             ],
             [
              0.7777777777777778,
              "#fb9f3a"
             ],
             [
              0.8888888888888888,
              "#fdca26"
             ],
             [
              1,
              "#f0f921"
             ]
            ],
            "type": "histogram2dcontour"
           }
          ],
          "mesh3d": [
           {
            "colorbar": {
             "outlinewidth": 0,
             "ticks": ""
            },
            "type": "mesh3d"
           }
          ],
          "parcoords": [
           {
            "line": {
             "colorbar": {
              "outlinewidth": 0,
              "ticks": ""
             }
            },
            "type": "parcoords"
           }
          ],
          "pie": [
           {
            "automargin": true,
            "type": "pie"
           }
          ],
          "scatter": [
           {
            "fillpattern": {
             "fillmode": "overlay",
             "size": 10,
             "solidity": 0.2
            },
            "type": "scatter"
           }
          ],
          "scatter3d": [
           {
            "line": {
             "colorbar": {
              "outlinewidth": 0,
              "ticks": ""
             }
            },
            "marker": {
             "colorbar": {
              "outlinewidth": 0,
              "ticks": ""
             }
            },
            "type": "scatter3d"
           }
          ],
          "scattercarpet": [
           {
            "marker": {
             "colorbar": {
              "outlinewidth": 0,
              "ticks": ""
             }
            },
            "type": "scattercarpet"
           }
          ],
          "scattergeo": [
           {
            "marker": {
             "colorbar": {
              "outlinewidth": 0,
              "ticks": ""
             }
            },
            "type": "scattergeo"
           }
          ],
          "scattergl": [
           {
            "marker": {
             "colorbar": {
              "outlinewidth": 0,
              "ticks": ""
             }
            },
            "type": "scattergl"
           }
          ],
          "scattermapbox": [
           {
            "marker": {
             "colorbar": {
              "outlinewidth": 0,
              "ticks": ""
             }
            },
            "type": "scattermapbox"
           }
          ],
          "scatterpolar": [
           {
            "marker": {
             "colorbar": {
              "outlinewidth": 0,
              "ticks": ""
             }
            },
            "type": "scatterpolar"
           }
          ],
          "scatterpolargl": [
           {
            "marker": {
             "colorbar": {
              "outlinewidth": 0,
              "ticks": ""
             }
            },
            "type": "scatterpolargl"
           }
          ],
          "scatterternary": [
           {
            "marker": {
             "colorbar": {
              "outlinewidth": 0,
              "ticks": ""
             }
            },
            "type": "scatterternary"
           }
          ],
          "surface": [
           {
            "colorbar": {
             "outlinewidth": 0,
             "ticks": ""
            },
            "colorscale": [
             [
              0,
              "#0d0887"
             ],
             [
              0.1111111111111111,
              "#46039f"
             ],
             [
              0.2222222222222222,
              "#7201a8"
             ],
             [
              0.3333333333333333,
              "#9c179e"
             ],
             [
              0.4444444444444444,
              "#bd3786"
             ],
             [
              0.5555555555555556,
              "#d8576b"
             ],
             [
              0.6666666666666666,
              "#ed7953"
             ],
             [
              0.7777777777777778,
              "#fb9f3a"
             ],
             [
              0.8888888888888888,
              "#fdca26"
             ],
             [
              1,
              "#f0f921"
             ]
            ],
            "type": "surface"
           }
          ],
          "table": [
           {
            "cells": {
             "fill": {
              "color": "#EBF0F8"
             },
             "line": {
              "color": "white"
             }
            },
            "header": {
             "fill": {
              "color": "#C8D4E3"
             },
             "line": {
              "color": "white"
             }
            },
            "type": "table"
           }
          ]
         },
         "layout": {
          "annotationdefaults": {
           "arrowcolor": "#2a3f5f",
           "arrowhead": 0,
           "arrowwidth": 1
          },
          "autotypenumbers": "strict",
          "coloraxis": {
           "colorbar": {
            "outlinewidth": 0,
            "ticks": ""
           }
          },
          "colorscale": {
           "diverging": [
            [
             0,
             "#8e0152"
            ],
            [
             0.1,
             "#c51b7d"
            ],
            [
             0.2,
             "#de77ae"
            ],
            [
             0.3,
             "#f1b6da"
            ],
            [
             0.4,
             "#fde0ef"
            ],
            [
             0.5,
             "#f7f7f7"
            ],
            [
             0.6,
             "#e6f5d0"
            ],
            [
             0.7,
             "#b8e186"
            ],
            [
             0.8,
             "#7fbc41"
            ],
            [
             0.9,
             "#4d9221"
            ],
            [
             1,
             "#276419"
            ]
           ],
           "sequential": [
            [
             0,
             "#0d0887"
            ],
            [
             0.1111111111111111,
             "#46039f"
            ],
            [
             0.2222222222222222,
             "#7201a8"
            ],
            [
             0.3333333333333333,
             "#9c179e"
            ],
            [
             0.4444444444444444,
             "#bd3786"
            ],
            [
             0.5555555555555556,
             "#d8576b"
            ],
            [
             0.6666666666666666,
             "#ed7953"
            ],
            [
             0.7777777777777778,
             "#fb9f3a"
            ],
            [
             0.8888888888888888,
             "#fdca26"
            ],
            [
             1,
             "#f0f921"
            ]
           ],
           "sequentialminus": [
            [
             0,
             "#0d0887"
            ],
            [
             0.1111111111111111,
             "#46039f"
            ],
            [
             0.2222222222222222,
             "#7201a8"
            ],
            [
             0.3333333333333333,
             "#9c179e"
            ],
            [
             0.4444444444444444,
             "#bd3786"
            ],
            [
             0.5555555555555556,
             "#d8576b"
            ],
            [
             0.6666666666666666,
             "#ed7953"
            ],
            [
             0.7777777777777778,
             "#fb9f3a"
            ],
            [
             0.8888888888888888,
             "#fdca26"
            ],
            [
             1,
             "#f0f921"
            ]
           ]
          },
          "colorway": [
           "#636efa",
           "#EF553B",
           "#00cc96",
           "#ab63fa",
           "#FFA15A",
           "#19d3f3",
           "#FF6692",
           "#B6E880",
           "#FF97FF",
           "#FECB52"
          ],
          "font": {
           "color": "#2a3f5f"
          },
          "geo": {
           "bgcolor": "white",
           "lakecolor": "white",
           "landcolor": "#E5ECF6",
           "showlakes": true,
           "showland": true,
           "subunitcolor": "white"
          },
          "hoverlabel": {
           "align": "left"
          },
          "hovermode": "closest",
          "mapbox": {
           "style": "light"
          },
          "paper_bgcolor": "white",
          "plot_bgcolor": "#E5ECF6",
          "polar": {
           "angularaxis": {
            "gridcolor": "white",
            "linecolor": "white",
            "ticks": ""
           },
           "bgcolor": "#E5ECF6",
           "radialaxis": {
            "gridcolor": "white",
            "linecolor": "white",
            "ticks": ""
           }
          },
          "scene": {
           "xaxis": {
            "backgroundcolor": "#E5ECF6",
            "gridcolor": "white",
            "gridwidth": 2,
            "linecolor": "white",
            "showbackground": true,
            "ticks": "",
            "zerolinecolor": "white"
           },
           "yaxis": {
            "backgroundcolor": "#E5ECF6",
            "gridcolor": "white",
            "gridwidth": 2,
            "linecolor": "white",
            "showbackground": true,
            "ticks": "",
            "zerolinecolor": "white"
           },
           "zaxis": {
            "backgroundcolor": "#E5ECF6",
            "gridcolor": "white",
            "gridwidth": 2,
            "linecolor": "white",
            "showbackground": true,
            "ticks": "",
            "zerolinecolor": "white"
           }
          },
          "shapedefaults": {
           "line": {
            "color": "#2a3f5f"
           }
          },
          "ternary": {
           "aaxis": {
            "gridcolor": "white",
            "linecolor": "white",
            "ticks": ""
           },
           "baxis": {
            "gridcolor": "white",
            "linecolor": "white",
            "ticks": ""
           },
           "bgcolor": "#E5ECF6",
           "caxis": {
            "gridcolor": "white",
            "linecolor": "white",
            "ticks": ""
           }
          },
          "title": {
           "x": 0.05
          },
          "xaxis": {
           "automargin": true,
           "gridcolor": "white",
           "linecolor": "white",
           "ticks": "",
           "title": {
            "standoff": 15
           },
           "zerolinecolor": "white",
           "zerolinewidth": 2
          },
          "yaxis": {
           "automargin": true,
           "gridcolor": "white",
           "linecolor": "white",
           "ticks": "",
           "title": {
            "standoff": 15
           },
           "zerolinecolor": "white",
           "zerolinewidth": 2
          }
         }
        }
       }
      }
     },
     "metadata": {},
     "output_type": "display_data"
    }
   ],
   "source": [
    "fig = px.scatter_3d(df, x='sepal_length', y='sepal_width', z='petal_length' )\n",
    "\n",
    "fig.show()"
   ]
  },
  {
   "cell_type": "code",
   "execution_count": 6,
   "metadata": {},
   "outputs": [
    {
     "data": {
      "application/vnd.plotly.v1+json": {
       "config": {
        "plotlyServerURL": "https://plot.ly"
       },
       "data": [
        {
         "dimensions": [
          {
           "axis": {
            "matches": true
           },
           "label": "sepal_length",
           "values": [
            5.1,
            4.9,
            4.7,
            4.6,
            5,
            5.4,
            4.6,
            5,
            4.4,
            4.9,
            5.4,
            4.8,
            4.8,
            4.3,
            5.8,
            5.7,
            5.4,
            5.1,
            5.7,
            5.1,
            5.4,
            5.1,
            4.6,
            5.1,
            4.8,
            5,
            5,
            5.2,
            5.2,
            4.7,
            4.8,
            5.4,
            5.2,
            5.5,
            4.9,
            5,
            5.5,
            4.9,
            4.4,
            5.1,
            5,
            4.5,
            4.4,
            5,
            5.1,
            4.8,
            5.1,
            4.6,
            5.3,
            5,
            7,
            6.4,
            6.9,
            5.5,
            6.5,
            5.7,
            6.3,
            4.9,
            6.6,
            5.2,
            5,
            5.9,
            6,
            6.1,
            5.6,
            6.7,
            5.6,
            5.8,
            6.2,
            5.6,
            5.9,
            6.1,
            6.3,
            6.1,
            6.4,
            6.6,
            6.8,
            6.7,
            6,
            5.7,
            5.5,
            5.5,
            5.8,
            6,
            5.4,
            6,
            6.7,
            6.3,
            5.6,
            5.5,
            5.5,
            6.1,
            5.8,
            5,
            5.6,
            5.7,
            5.7,
            6.2,
            5.1,
            5.7,
            6.3,
            5.8,
            7.1,
            6.3,
            6.5,
            7.6,
            4.9,
            7.3,
            6.7,
            7.2,
            6.5,
            6.4,
            6.8,
            5.7,
            5.8,
            6.4,
            6.5,
            7.7,
            7.7,
            6,
            6.9,
            5.6,
            7.7,
            6.3,
            6.7,
            7.2,
            6.2,
            6.1,
            6.4,
            7.2,
            7.4,
            7.9,
            6.4,
            6.3,
            6.1,
            7.7,
            6.3,
            6.4,
            6,
            6.9,
            6.7,
            6.9,
            5.8,
            6.8,
            6.7,
            6.7,
            6.3,
            6.5,
            6.2,
            5.9
           ]
          },
          {
           "axis": {
            "matches": true
           },
           "label": "sepal_width",
           "values": [
            3.5,
            3,
            3.2,
            3.1,
            3.6,
            3.9,
            3.4,
            3.4,
            2.9,
            3.1,
            3.7,
            3.4,
            3,
            3,
            4,
            4.4,
            3.9,
            3.5,
            3.8,
            3.8,
            3.4,
            3.7,
            3.6,
            3.3,
            3.4,
            3,
            3.4,
            3.5,
            3.4,
            3.2,
            3.1,
            3.4,
            4.1,
            4.2,
            3.1,
            3.2,
            3.5,
            3.6,
            3,
            3.4,
            3.5,
            2.3,
            3.2,
            3.5,
            3.8,
            3,
            3.8,
            3.2,
            3.7,
            3.3,
            3.2,
            3.2,
            3.1,
            2.3,
            2.8,
            2.8,
            3.3,
            2.4,
            2.9,
            2.7,
            2,
            3,
            2.2,
            2.9,
            2.9,
            3.1,
            3,
            2.7,
            2.2,
            2.5,
            3.2,
            2.8,
            2.5,
            2.8,
            2.9,
            3,
            2.8,
            3,
            2.9,
            2.6,
            2.4,
            2.4,
            2.7,
            2.7,
            3,
            3.4,
            3.1,
            2.3,
            3,
            2.5,
            2.6,
            3,
            2.6,
            2.3,
            2.7,
            3,
            2.9,
            2.9,
            2.5,
            2.8,
            3.3,
            2.7,
            3,
            2.9,
            3,
            3,
            2.5,
            2.9,
            2.5,
            3.6,
            3.2,
            2.7,
            3,
            2.5,
            2.8,
            3.2,
            3,
            3.8,
            2.6,
            2.2,
            3.2,
            2.8,
            2.8,
            2.7,
            3.3,
            3.2,
            2.8,
            3,
            2.8,
            3,
            2.8,
            3.8,
            2.8,
            2.8,
            2.6,
            3,
            3.4,
            3.1,
            3,
            3.1,
            3.1,
            3.1,
            2.7,
            3.2,
            3.3,
            3,
            2.5,
            3,
            3.4,
            3
           ]
          },
          {
           "axis": {
            "matches": true
           },
           "label": "petal_length",
           "values": [
            1.4,
            1.4,
            1.3,
            1.5,
            1.4,
            1.7,
            1.4,
            1.5,
            1.4,
            1.5,
            1.5,
            1.6,
            1.4,
            1.1,
            1.2,
            1.5,
            1.3,
            1.4,
            1.7,
            1.5,
            1.7,
            1.5,
            1,
            1.7,
            1.9,
            1.6,
            1.6,
            1.5,
            1.4,
            1.6,
            1.6,
            1.5,
            1.5,
            1.4,
            1.5,
            1.2,
            1.3,
            1.4,
            1.3,
            1.5,
            1.3,
            1.3,
            1.3,
            1.6,
            1.9,
            1.4,
            1.6,
            1.4,
            1.5,
            1.4,
            4.7,
            4.5,
            4.9,
            4,
            4.6,
            4.5,
            4.7,
            3.3,
            4.6,
            3.9,
            3.5,
            4.2,
            4,
            4.7,
            3.6,
            4.4,
            4.5,
            4.1,
            4.5,
            3.9,
            4.8,
            4,
            4.9,
            4.7,
            4.3,
            4.4,
            4.8,
            5,
            4.5,
            3.5,
            3.8,
            3.7,
            3.9,
            5.1,
            4.5,
            4.5,
            4.7,
            4.4,
            4.1,
            4,
            4.4,
            4.6,
            4,
            3.3,
            4.2,
            4.2,
            4.2,
            4.3,
            3,
            4.1,
            6,
            5.1,
            5.9,
            5.6,
            5.8,
            6.6,
            4.5,
            6.3,
            5.8,
            6.1,
            5.1,
            5.3,
            5.5,
            5,
            5.1,
            5.3,
            5.5,
            6.7,
            6.9,
            5,
            5.7,
            4.9,
            6.7,
            4.9,
            5.7,
            6,
            4.8,
            4.9,
            5.6,
            5.8,
            6.1,
            6.4,
            5.6,
            5.1,
            5.6,
            6.1,
            5.6,
            5.5,
            4.8,
            5.4,
            5.6,
            5.1,
            5.1,
            5.9,
            5.7,
            5.2,
            5,
            5.2,
            5.4,
            5.1
           ]
          },
          {
           "axis": {
            "matches": true
           },
           "label": "petal_width",
           "values": [
            0.2,
            0.2,
            0.2,
            0.2,
            0.2,
            0.4,
            0.3,
            0.2,
            0.2,
            0.1,
            0.2,
            0.2,
            0.1,
            0.1,
            0.2,
            0.4,
            0.4,
            0.3,
            0.3,
            0.3,
            0.2,
            0.4,
            0.2,
            0.5,
            0.2,
            0.2,
            0.4,
            0.2,
            0.2,
            0.2,
            0.2,
            0.4,
            0.1,
            0.2,
            0.2,
            0.2,
            0.2,
            0.1,
            0.2,
            0.2,
            0.3,
            0.3,
            0.2,
            0.6,
            0.4,
            0.3,
            0.2,
            0.2,
            0.2,
            0.2,
            1.4,
            1.5,
            1.5,
            1.3,
            1.5,
            1.3,
            1.6,
            1,
            1.3,
            1.4,
            1,
            1.5,
            1,
            1.4,
            1.3,
            1.4,
            1.5,
            1,
            1.5,
            1.1,
            1.8,
            1.3,
            1.5,
            1.2,
            1.3,
            1.4,
            1.4,
            1.7,
            1.5,
            1,
            1.1,
            1,
            1.2,
            1.6,
            1.5,
            1.6,
            1.5,
            1.3,
            1.3,
            1.3,
            1.2,
            1.4,
            1.2,
            1,
            1.3,
            1.2,
            1.3,
            1.3,
            1.1,
            1.3,
            2.5,
            1.9,
            2.1,
            1.8,
            2.2,
            2.1,
            1.7,
            1.8,
            1.8,
            2.5,
            2,
            1.9,
            2.1,
            2,
            2.4,
            2.3,
            1.8,
            2.2,
            2.3,
            1.5,
            2.3,
            2,
            2,
            1.8,
            2.1,
            1.8,
            1.8,
            1.8,
            2.1,
            1.6,
            1.9,
            2,
            2.2,
            1.5,
            1.4,
            2.3,
            2.4,
            1.8,
            1.8,
            2.1,
            2.4,
            2.3,
            1.9,
            2.3,
            2.5,
            2.3,
            1.9,
            2,
            2.3,
            1.8
           ]
          }
         ],
         "hovertemplate": "%{xaxis.title.text}=%{x}<br>%{yaxis.title.text}=%{y}<extra></extra>",
         "legendgroup": "",
         "marker": {
          "color": "#636efa",
          "symbol": "circle"
         },
         "name": "",
         "showlegend": false,
         "type": "splom"
        }
       ],
       "layout": {
        "dragmode": "select",
        "height": 1500,
        "legend": {
         "tracegroupgap": 0
        },
        "margin": {
         "t": 60
        },
        "template": {
         "data": {
          "bar": [
           {
            "error_x": {
             "color": "#2a3f5f"
            },
            "error_y": {
             "color": "#2a3f5f"
            },
            "marker": {
             "line": {
              "color": "#E5ECF6",
              "width": 0.5
             },
             "pattern": {
              "fillmode": "overlay",
              "size": 10,
              "solidity": 0.2
             }
            },
            "type": "bar"
           }
          ],
          "barpolar": [
           {
            "marker": {
             "line": {
              "color": "#E5ECF6",
              "width": 0.5
             },
             "pattern": {
              "fillmode": "overlay",
              "size": 10,
              "solidity": 0.2
             }
            },
            "type": "barpolar"
           }
          ],
          "carpet": [
           {
            "aaxis": {
             "endlinecolor": "#2a3f5f",
             "gridcolor": "white",
             "linecolor": "white",
             "minorgridcolor": "white",
             "startlinecolor": "#2a3f5f"
            },
            "baxis": {
             "endlinecolor": "#2a3f5f",
             "gridcolor": "white",
             "linecolor": "white",
             "minorgridcolor": "white",
             "startlinecolor": "#2a3f5f"
            },
            "type": "carpet"
           }
          ],
          "choropleth": [
           {
            "colorbar": {
             "outlinewidth": 0,
             "ticks": ""
            },
            "type": "choropleth"
           }
          ],
          "contour": [
           {
            "colorbar": {
             "outlinewidth": 0,
             "ticks": ""
            },
            "colorscale": [
             [
              0,
              "#0d0887"
             ],
             [
              0.1111111111111111,
              "#46039f"
             ],
             [
              0.2222222222222222,
              "#7201a8"
             ],
             [
              0.3333333333333333,
              "#9c179e"
             ],
             [
              0.4444444444444444,
              "#bd3786"
             ],
             [
              0.5555555555555556,
              "#d8576b"
             ],
             [
              0.6666666666666666,
              "#ed7953"
             ],
             [
              0.7777777777777778,
              "#fb9f3a"
             ],
             [
              0.8888888888888888,
              "#fdca26"
             ],
             [
              1,
              "#f0f921"
             ]
            ],
            "type": "contour"
           }
          ],
          "contourcarpet": [
           {
            "colorbar": {
             "outlinewidth": 0,
             "ticks": ""
            },
            "type": "contourcarpet"
           }
          ],
          "heatmap": [
           {
            "colorbar": {
             "outlinewidth": 0,
             "ticks": ""
            },
            "colorscale": [
             [
              0,
              "#0d0887"
             ],
             [
              0.1111111111111111,
              "#46039f"
             ],
             [
              0.2222222222222222,
              "#7201a8"
             ],
             [
              0.3333333333333333,
              "#9c179e"
             ],
             [
              0.4444444444444444,
              "#bd3786"
             ],
             [
              0.5555555555555556,
              "#d8576b"
             ],
             [
              0.6666666666666666,
              "#ed7953"
             ],
             [
              0.7777777777777778,
              "#fb9f3a"
             ],
             [
              0.8888888888888888,
              "#fdca26"
             ],
             [
              1,
              "#f0f921"
             ]
            ],
            "type": "heatmap"
           }
          ],
          "heatmapgl": [
           {
            "colorbar": {
             "outlinewidth": 0,
             "ticks": ""
            },
            "colorscale": [
             [
              0,
              "#0d0887"
             ],
             [
              0.1111111111111111,
              "#46039f"
             ],
             [
              0.2222222222222222,
              "#7201a8"
             ],
             [
              0.3333333333333333,
              "#9c179e"
             ],
             [
              0.4444444444444444,
              "#bd3786"
             ],
             [
              0.5555555555555556,
              "#d8576b"
             ],
             [
              0.6666666666666666,
              "#ed7953"
             ],
             [
              0.7777777777777778,
              "#fb9f3a"
             ],
             [
              0.8888888888888888,
              "#fdca26"
             ],
             [
              1,
              "#f0f921"
             ]
            ],
            "type": "heatmapgl"
           }
          ],
          "histogram": [
           {
            "marker": {
             "pattern": {
              "fillmode": "overlay",
              "size": 10,
              "solidity": 0.2
             }
            },
            "type": "histogram"
           }
          ],
          "histogram2d": [
           {
            "colorbar": {
             "outlinewidth": 0,
             "ticks": ""
            },
            "colorscale": [
             [
              0,
              "#0d0887"
             ],
             [
              0.1111111111111111,
              "#46039f"
             ],
             [
              0.2222222222222222,
              "#7201a8"
             ],
             [
              0.3333333333333333,
              "#9c179e"
             ],
             [
              0.4444444444444444,
              "#bd3786"
             ],
             [
              0.5555555555555556,
              "#d8576b"
             ],
             [
              0.6666666666666666,
              "#ed7953"
             ],
             [
              0.7777777777777778,
              "#fb9f3a"
             ],
             [
              0.8888888888888888,
              "#fdca26"
             ],
             [
              1,
              "#f0f921"
             ]
            ],
            "type": "histogram2d"
           }
          ],
          "histogram2dcontour": [
           {
            "colorbar": {
             "outlinewidth": 0,
             "ticks": ""
            },
            "colorscale": [
             [
              0,
              "#0d0887"
             ],
             [
              0.1111111111111111,
              "#46039f"
             ],
             [
              0.2222222222222222,
              "#7201a8"
             ],
             [
              0.3333333333333333,
              "#9c179e"
             ],
             [
              0.4444444444444444,
              "#bd3786"
             ],
             [
              0.5555555555555556,
              "#d8576b"
             ],
             [
              0.6666666666666666,
              "#ed7953"
             ],
             [
              0.7777777777777778,
              "#fb9f3a"
             ],
             [
              0.8888888888888888,
              "#fdca26"
             ],
             [
              1,
              "#f0f921"
             ]
            ],
            "type": "histogram2dcontour"
           }
          ],
          "mesh3d": [
           {
            "colorbar": {
             "outlinewidth": 0,
             "ticks": ""
            },
            "type": "mesh3d"
           }
          ],
          "parcoords": [
           {
            "line": {
             "colorbar": {
              "outlinewidth": 0,
              "ticks": ""
             }
            },
            "type": "parcoords"
           }
          ],
          "pie": [
           {
            "automargin": true,
            "type": "pie"
           }
          ],
          "scatter": [
           {
            "fillpattern": {
             "fillmode": "overlay",
             "size": 10,
             "solidity": 0.2
            },
            "type": "scatter"
           }
          ],
          "scatter3d": [
           {
            "line": {
             "colorbar": {
              "outlinewidth": 0,
              "ticks": ""
             }
            },
            "marker": {
             "colorbar": {
              "outlinewidth": 0,
              "ticks": ""
             }
            },
            "type": "scatter3d"
           }
          ],
          "scattercarpet": [
           {
            "marker": {
             "colorbar": {
              "outlinewidth": 0,
              "ticks": ""
             }
            },
            "type": "scattercarpet"
           }
          ],
          "scattergeo": [
           {
            "marker": {
             "colorbar": {
              "outlinewidth": 0,
              "ticks": ""
             }
            },
            "type": "scattergeo"
           }
          ],
          "scattergl": [
           {
            "marker": {
             "colorbar": {
              "outlinewidth": 0,
              "ticks": ""
             }
            },
            "type": "scattergl"
           }
          ],
          "scattermapbox": [
           {
            "marker": {
             "colorbar": {
              "outlinewidth": 0,
              "ticks": ""
             }
            },
            "type": "scattermapbox"
           }
          ],
          "scatterpolar": [
           {
            "marker": {
             "colorbar": {
              "outlinewidth": 0,
              "ticks": ""
             }
            },
            "type": "scatterpolar"
           }
          ],
          "scatterpolargl": [
           {
            "marker": {
             "colorbar": {
              "outlinewidth": 0,
              "ticks": ""
             }
            },
            "type": "scatterpolargl"
           }
          ],
          "scatterternary": [
           {
            "marker": {
             "colorbar": {
              "outlinewidth": 0,
              "ticks": ""
             }
            },
            "type": "scatterternary"
           }
          ],
          "surface": [
           {
            "colorbar": {
             "outlinewidth": 0,
             "ticks": ""
            },
            "colorscale": [
             [
              0,
              "#0d0887"
             ],
             [
              0.1111111111111111,
              "#46039f"
             ],
             [
              0.2222222222222222,
              "#7201a8"
             ],
             [
              0.3333333333333333,
              "#9c179e"
             ],
             [
              0.4444444444444444,
              "#bd3786"
             ],
             [
              0.5555555555555556,
              "#d8576b"
             ],
             [
              0.6666666666666666,
              "#ed7953"
             ],
             [
              0.7777777777777778,
              "#fb9f3a"
             ],
             [
              0.8888888888888888,
              "#fdca26"
             ],
             [
              1,
              "#f0f921"
             ]
            ],
            "type": "surface"
           }
          ],
          "table": [
           {
            "cells": {
             "fill": {
              "color": "#EBF0F8"
             },
             "line": {
              "color": "white"
             }
            },
            "header": {
             "fill": {
              "color": "#C8D4E3"
             },
             "line": {
              "color": "white"
             }
            },
            "type": "table"
           }
          ]
         },
         "layout": {
          "annotationdefaults": {
           "arrowcolor": "#2a3f5f",
           "arrowhead": 0,
           "arrowwidth": 1
          },
          "autotypenumbers": "strict",
          "coloraxis": {
           "colorbar": {
            "outlinewidth": 0,
            "ticks": ""
           }
          },
          "colorscale": {
           "diverging": [
            [
             0,
             "#8e0152"
            ],
            [
             0.1,
             "#c51b7d"
            ],
            [
             0.2,
             "#de77ae"
            ],
            [
             0.3,
             "#f1b6da"
            ],
            [
             0.4,
             "#fde0ef"
            ],
            [
             0.5,
             "#f7f7f7"
            ],
            [
             0.6,
             "#e6f5d0"
            ],
            [
             0.7,
             "#b8e186"
            ],
            [
             0.8,
             "#7fbc41"
            ],
            [
             0.9,
             "#4d9221"
            ],
            [
             1,
             "#276419"
            ]
           ],
           "sequential": [
            [
             0,
             "#0d0887"
            ],
            [
             0.1111111111111111,
             "#46039f"
            ],
            [
             0.2222222222222222,
             "#7201a8"
            ],
            [
             0.3333333333333333,
             "#9c179e"
            ],
            [
             0.4444444444444444,
             "#bd3786"
            ],
            [
             0.5555555555555556,
             "#d8576b"
            ],
            [
             0.6666666666666666,
             "#ed7953"
            ],
            [
             0.7777777777777778,
             "#fb9f3a"
            ],
            [
             0.8888888888888888,
             "#fdca26"
            ],
            [
             1,
             "#f0f921"
            ]
           ],
           "sequentialminus": [
            [
             0,
             "#0d0887"
            ],
            [
             0.1111111111111111,
             "#46039f"
            ],
            [
             0.2222222222222222,
             "#7201a8"
            ],
            [
             0.3333333333333333,
             "#9c179e"
            ],
            [
             0.4444444444444444,
             "#bd3786"
            ],
            [
             0.5555555555555556,
             "#d8576b"
            ],
            [
             0.6666666666666666,
             "#ed7953"
            ],
            [
             0.7777777777777778,
             "#fb9f3a"
            ],
            [
             0.8888888888888888,
             "#fdca26"
            ],
            [
             1,
             "#f0f921"
            ]
           ]
          },
          "colorway": [
           "#636efa",
           "#EF553B",
           "#00cc96",
           "#ab63fa",
           "#FFA15A",
           "#19d3f3",
           "#FF6692",
           "#B6E880",
           "#FF97FF",
           "#FECB52"
          ],
          "font": {
           "color": "#2a3f5f"
          },
          "geo": {
           "bgcolor": "white",
           "lakecolor": "white",
           "landcolor": "#E5ECF6",
           "showlakes": true,
           "showland": true,
           "subunitcolor": "white"
          },
          "hoverlabel": {
           "align": "left"
          },
          "hovermode": "closest",
          "mapbox": {
           "style": "light"
          },
          "paper_bgcolor": "white",
          "plot_bgcolor": "#E5ECF6",
          "polar": {
           "angularaxis": {
            "gridcolor": "white",
            "linecolor": "white",
            "ticks": ""
           },
           "bgcolor": "#E5ECF6",
           "radialaxis": {
            "gridcolor": "white",
            "linecolor": "white",
            "ticks": ""
           }
          },
          "scene": {
           "xaxis": {
            "backgroundcolor": "#E5ECF6",
            "gridcolor": "white",
            "gridwidth": 2,
            "linecolor": "white",
            "showbackground": true,
            "ticks": "",
            "zerolinecolor": "white"
           },
           "yaxis": {
            "backgroundcolor": "#E5ECF6",
            "gridcolor": "white",
            "gridwidth": 2,
            "linecolor": "white",
            "showbackground": true,
            "ticks": "",
            "zerolinecolor": "white"
           },
           "zaxis": {
            "backgroundcolor": "#E5ECF6",
            "gridcolor": "white",
            "gridwidth": 2,
            "linecolor": "white",
            "showbackground": true,
            "ticks": "",
            "zerolinecolor": "white"
           }
          },
          "shapedefaults": {
           "line": {
            "color": "#2a3f5f"
           }
          },
          "ternary": {
           "aaxis": {
            "gridcolor": "white",
            "linecolor": "white",
            "ticks": ""
           },
           "baxis": {
            "gridcolor": "white",
            "linecolor": "white",
            "ticks": ""
           },
           "bgcolor": "#E5ECF6",
           "caxis": {
            "gridcolor": "white",
            "linecolor": "white",
            "ticks": ""
           }
          },
          "title": {
           "x": 0.05
          },
          "xaxis": {
           "automargin": true,
           "gridcolor": "white",
           "linecolor": "white",
           "ticks": "",
           "title": {
            "standoff": 15
           },
           "zerolinecolor": "white",
           "zerolinewidth": 2
          },
          "yaxis": {
           "automargin": true,
           "gridcolor": "white",
           "linecolor": "white",
           "ticks": "",
           "title": {
            "standoff": 15
           },
           "zerolinecolor": "white",
           "zerolinewidth": 2
          }
         }
        },
        "width": 1500
       }
      }
     },
     "metadata": {},
     "output_type": "display_data"
    }
   ],
   "source": [
    "df_dim = df.drop(columns = \"species\")\n",
    "fig = px.scatter_matrix(data_frame = df,\n",
    "                        dimensions =  df_dim,\n",
    "                        height = 1500,\n",
    "                        width = 1500,\n",
    "                        )\n",
    "fig.show()"
   ]
  },
  {
   "cell_type": "code",
   "execution_count": 7,
   "metadata": {},
   "outputs": [],
   "source": [
    "df_copy = df.copy()"
   ]
  },
  {
   "cell_type": "code",
   "execution_count": 8,
   "metadata": {},
   "outputs": [],
   "source": [
    "X = df[['sepal_length', 'sepal_width', 'petal_length', 'petal_width']]"
   ]
  },
  {
   "cell_type": "code",
   "execution_count": 9,
   "metadata": {},
   "outputs": [],
   "source": [
    "#scaler = RobustScaler()\n",
    "#scaler = StandardScaler()\n",
    "scaler = MinMaxScaler()\n",
    "x_scaled = scaler.fit_transform(X)"
   ]
  },
  {
   "cell_type": "code",
   "execution_count": 10,
   "metadata": {},
   "outputs": [
    {
     "data": {
      "text/html": [
       "<style>#sk-container-id-1 {\n",
       "  /* Definition of color scheme common for light and dark mode */\n",
       "  --sklearn-color-text: black;\n",
       "  --sklearn-color-line: gray;\n",
       "  /* Definition of color scheme for unfitted estimators */\n",
       "  --sklearn-color-unfitted-level-0: #fff5e6;\n",
       "  --sklearn-color-unfitted-level-1: #f6e4d2;\n",
       "  --sklearn-color-unfitted-level-2: #ffe0b3;\n",
       "  --sklearn-color-unfitted-level-3: chocolate;\n",
       "  /* Definition of color scheme for fitted estimators */\n",
       "  --sklearn-color-fitted-level-0: #f0f8ff;\n",
       "  --sklearn-color-fitted-level-1: #d4ebff;\n",
       "  --sklearn-color-fitted-level-2: #b3dbfd;\n",
       "  --sklearn-color-fitted-level-3: cornflowerblue;\n",
       "\n",
       "  /* Specific color for light theme */\n",
       "  --sklearn-color-text-on-default-background: var(--sg-text-color, var(--theme-code-foreground, var(--jp-content-font-color1, black)));\n",
       "  --sklearn-color-background: var(--sg-background-color, var(--theme-background, var(--jp-layout-color0, white)));\n",
       "  --sklearn-color-border-box: var(--sg-text-color, var(--theme-code-foreground, var(--jp-content-font-color1, black)));\n",
       "  --sklearn-color-icon: #696969;\n",
       "\n",
       "  @media (prefers-color-scheme: dark) {\n",
       "    /* Redefinition of color scheme for dark theme */\n",
       "    --sklearn-color-text-on-default-background: var(--sg-text-color, var(--theme-code-foreground, var(--jp-content-font-color1, white)));\n",
       "    --sklearn-color-background: var(--sg-background-color, var(--theme-background, var(--jp-layout-color0, #111)));\n",
       "    --sklearn-color-border-box: var(--sg-text-color, var(--theme-code-foreground, var(--jp-content-font-color1, white)));\n",
       "    --sklearn-color-icon: #878787;\n",
       "  }\n",
       "}\n",
       "\n",
       "#sk-container-id-1 {\n",
       "  color: var(--sklearn-color-text);\n",
       "}\n",
       "\n",
       "#sk-container-id-1 pre {\n",
       "  padding: 0;\n",
       "}\n",
       "\n",
       "#sk-container-id-1 input.sk-hidden--visually {\n",
       "  border: 0;\n",
       "  clip: rect(1px 1px 1px 1px);\n",
       "  clip: rect(1px, 1px, 1px, 1px);\n",
       "  height: 1px;\n",
       "  margin: -1px;\n",
       "  overflow: hidden;\n",
       "  padding: 0;\n",
       "  position: absolute;\n",
       "  width: 1px;\n",
       "}\n",
       "\n",
       "#sk-container-id-1 div.sk-dashed-wrapped {\n",
       "  border: 1px dashed var(--sklearn-color-line);\n",
       "  margin: 0 0.4em 0.5em 0.4em;\n",
       "  box-sizing: border-box;\n",
       "  padding-bottom: 0.4em;\n",
       "  background-color: var(--sklearn-color-background);\n",
       "}\n",
       "\n",
       "#sk-container-id-1 div.sk-container {\n",
       "  /* jupyter's `normalize.less` sets `[hidden] { display: none; }`\n",
       "     but bootstrap.min.css set `[hidden] { display: none !important; }`\n",
       "     so we also need the `!important` here to be able to override the\n",
       "     default hidden behavior on the sphinx rendered scikit-learn.org.\n",
       "     See: https://github.com/scikit-learn/scikit-learn/issues/21755 */\n",
       "  display: inline-block !important;\n",
       "  position: relative;\n",
       "}\n",
       "\n",
       "#sk-container-id-1 div.sk-text-repr-fallback {\n",
       "  display: none;\n",
       "}\n",
       "\n",
       "div.sk-parallel-item,\n",
       "div.sk-serial,\n",
       "div.sk-item {\n",
       "  /* draw centered vertical line to link estimators */\n",
       "  background-image: linear-gradient(var(--sklearn-color-text-on-default-background), var(--sklearn-color-text-on-default-background));\n",
       "  background-size: 2px 100%;\n",
       "  background-repeat: no-repeat;\n",
       "  background-position: center center;\n",
       "}\n",
       "\n",
       "/* Parallel-specific style estimator block */\n",
       "\n",
       "#sk-container-id-1 div.sk-parallel-item::after {\n",
       "  content: \"\";\n",
       "  width: 100%;\n",
       "  border-bottom: 2px solid var(--sklearn-color-text-on-default-background);\n",
       "  flex-grow: 1;\n",
       "}\n",
       "\n",
       "#sk-container-id-1 div.sk-parallel {\n",
       "  display: flex;\n",
       "  align-items: stretch;\n",
       "  justify-content: center;\n",
       "  background-color: var(--sklearn-color-background);\n",
       "  position: relative;\n",
       "}\n",
       "\n",
       "#sk-container-id-1 div.sk-parallel-item {\n",
       "  display: flex;\n",
       "  flex-direction: column;\n",
       "}\n",
       "\n",
       "#sk-container-id-1 div.sk-parallel-item:first-child::after {\n",
       "  align-self: flex-end;\n",
       "  width: 50%;\n",
       "}\n",
       "\n",
       "#sk-container-id-1 div.sk-parallel-item:last-child::after {\n",
       "  align-self: flex-start;\n",
       "  width: 50%;\n",
       "}\n",
       "\n",
       "#sk-container-id-1 div.sk-parallel-item:only-child::after {\n",
       "  width: 0;\n",
       "}\n",
       "\n",
       "/* Serial-specific style estimator block */\n",
       "\n",
       "#sk-container-id-1 div.sk-serial {\n",
       "  display: flex;\n",
       "  flex-direction: column;\n",
       "  align-items: center;\n",
       "  background-color: var(--sklearn-color-background);\n",
       "  padding-right: 1em;\n",
       "  padding-left: 1em;\n",
       "}\n",
       "\n",
       "\n",
       "/* Toggleable style: style used for estimator/Pipeline/ColumnTransformer box that is\n",
       "clickable and can be expanded/collapsed.\n",
       "- Pipeline and ColumnTransformer use this feature and define the default style\n",
       "- Estimators will overwrite some part of the style using the `sk-estimator` class\n",
       "*/\n",
       "\n",
       "/* Pipeline and ColumnTransformer style (default) */\n",
       "\n",
       "#sk-container-id-1 div.sk-toggleable {\n",
       "  /* Default theme specific background. It is overwritten whether we have a\n",
       "  specific estimator or a Pipeline/ColumnTransformer */\n",
       "  background-color: var(--sklearn-color-background);\n",
       "}\n",
       "\n",
       "/* Toggleable label */\n",
       "#sk-container-id-1 label.sk-toggleable__label {\n",
       "  cursor: pointer;\n",
       "  display: block;\n",
       "  width: 100%;\n",
       "  margin-bottom: 0;\n",
       "  padding: 0.5em;\n",
       "  box-sizing: border-box;\n",
       "  text-align: center;\n",
       "}\n",
       "\n",
       "#sk-container-id-1 label.sk-toggleable__label-arrow:before {\n",
       "  /* Arrow on the left of the label */\n",
       "  content: \"▸\";\n",
       "  float: left;\n",
       "  margin-right: 0.25em;\n",
       "  color: var(--sklearn-color-icon);\n",
       "}\n",
       "\n",
       "#sk-container-id-1 label.sk-toggleable__label-arrow:hover:before {\n",
       "  color: var(--sklearn-color-text);\n",
       "}\n",
       "\n",
       "/* Toggleable content - dropdown */\n",
       "\n",
       "#sk-container-id-1 div.sk-toggleable__content {\n",
       "  max-height: 0;\n",
       "  max-width: 0;\n",
       "  overflow: hidden;\n",
       "  text-align: left;\n",
       "  /* unfitted */\n",
       "  background-color: var(--sklearn-color-unfitted-level-0);\n",
       "}\n",
       "\n",
       "#sk-container-id-1 div.sk-toggleable__content.fitted {\n",
       "  /* fitted */\n",
       "  background-color: var(--sklearn-color-fitted-level-0);\n",
       "}\n",
       "\n",
       "#sk-container-id-1 div.sk-toggleable__content pre {\n",
       "  margin: 0.2em;\n",
       "  border-radius: 0.25em;\n",
       "  color: var(--sklearn-color-text);\n",
       "  /* unfitted */\n",
       "  background-color: var(--sklearn-color-unfitted-level-0);\n",
       "}\n",
       "\n",
       "#sk-container-id-1 div.sk-toggleable__content.fitted pre {\n",
       "  /* unfitted */\n",
       "  background-color: var(--sklearn-color-fitted-level-0);\n",
       "}\n",
       "\n",
       "#sk-container-id-1 input.sk-toggleable__control:checked~div.sk-toggleable__content {\n",
       "  /* Expand drop-down */\n",
       "  max-height: 200px;\n",
       "  max-width: 100%;\n",
       "  overflow: auto;\n",
       "}\n",
       "\n",
       "#sk-container-id-1 input.sk-toggleable__control:checked~label.sk-toggleable__label-arrow:before {\n",
       "  content: \"▾\";\n",
       "}\n",
       "\n",
       "/* Pipeline/ColumnTransformer-specific style */\n",
       "\n",
       "#sk-container-id-1 div.sk-label input.sk-toggleable__control:checked~label.sk-toggleable__label {\n",
       "  color: var(--sklearn-color-text);\n",
       "  background-color: var(--sklearn-color-unfitted-level-2);\n",
       "}\n",
       "\n",
       "#sk-container-id-1 div.sk-label.fitted input.sk-toggleable__control:checked~label.sk-toggleable__label {\n",
       "  background-color: var(--sklearn-color-fitted-level-2);\n",
       "}\n",
       "\n",
       "/* Estimator-specific style */\n",
       "\n",
       "/* Colorize estimator box */\n",
       "#sk-container-id-1 div.sk-estimator input.sk-toggleable__control:checked~label.sk-toggleable__label {\n",
       "  /* unfitted */\n",
       "  background-color: var(--sklearn-color-unfitted-level-2);\n",
       "}\n",
       "\n",
       "#sk-container-id-1 div.sk-estimator.fitted input.sk-toggleable__control:checked~label.sk-toggleable__label {\n",
       "  /* fitted */\n",
       "  background-color: var(--sklearn-color-fitted-level-2);\n",
       "}\n",
       "\n",
       "#sk-container-id-1 div.sk-label label.sk-toggleable__label,\n",
       "#sk-container-id-1 div.sk-label label {\n",
       "  /* The background is the default theme color */\n",
       "  color: var(--sklearn-color-text-on-default-background);\n",
       "}\n",
       "\n",
       "/* On hover, darken the color of the background */\n",
       "#sk-container-id-1 div.sk-label:hover label.sk-toggleable__label {\n",
       "  color: var(--sklearn-color-text);\n",
       "  background-color: var(--sklearn-color-unfitted-level-2);\n",
       "}\n",
       "\n",
       "/* Label box, darken color on hover, fitted */\n",
       "#sk-container-id-1 div.sk-label.fitted:hover label.sk-toggleable__label.fitted {\n",
       "  color: var(--sklearn-color-text);\n",
       "  background-color: var(--sklearn-color-fitted-level-2);\n",
       "}\n",
       "\n",
       "/* Estimator label */\n",
       "\n",
       "#sk-container-id-1 div.sk-label label {\n",
       "  font-family: monospace;\n",
       "  font-weight: bold;\n",
       "  display: inline-block;\n",
       "  line-height: 1.2em;\n",
       "}\n",
       "\n",
       "#sk-container-id-1 div.sk-label-container {\n",
       "  text-align: center;\n",
       "}\n",
       "\n",
       "/* Estimator-specific */\n",
       "#sk-container-id-1 div.sk-estimator {\n",
       "  font-family: monospace;\n",
       "  border: 1px dotted var(--sklearn-color-border-box);\n",
       "  border-radius: 0.25em;\n",
       "  box-sizing: border-box;\n",
       "  margin-bottom: 0.5em;\n",
       "  /* unfitted */\n",
       "  background-color: var(--sklearn-color-unfitted-level-0);\n",
       "}\n",
       "\n",
       "#sk-container-id-1 div.sk-estimator.fitted {\n",
       "  /* fitted */\n",
       "  background-color: var(--sklearn-color-fitted-level-0);\n",
       "}\n",
       "\n",
       "/* on hover */\n",
       "#sk-container-id-1 div.sk-estimator:hover {\n",
       "  /* unfitted */\n",
       "  background-color: var(--sklearn-color-unfitted-level-2);\n",
       "}\n",
       "\n",
       "#sk-container-id-1 div.sk-estimator.fitted:hover {\n",
       "  /* fitted */\n",
       "  background-color: var(--sklearn-color-fitted-level-2);\n",
       "}\n",
       "\n",
       "/* Specification for estimator info (e.g. \"i\" and \"?\") */\n",
       "\n",
       "/* Common style for \"i\" and \"?\" */\n",
       "\n",
       ".sk-estimator-doc-link,\n",
       "a:link.sk-estimator-doc-link,\n",
       "a:visited.sk-estimator-doc-link {\n",
       "  float: right;\n",
       "  font-size: smaller;\n",
       "  line-height: 1em;\n",
       "  font-family: monospace;\n",
       "  background-color: var(--sklearn-color-background);\n",
       "  border-radius: 1em;\n",
       "  height: 1em;\n",
       "  width: 1em;\n",
       "  text-decoration: none !important;\n",
       "  margin-left: 1ex;\n",
       "  /* unfitted */\n",
       "  border: var(--sklearn-color-unfitted-level-1) 1pt solid;\n",
       "  color: var(--sklearn-color-unfitted-level-1);\n",
       "}\n",
       "\n",
       ".sk-estimator-doc-link.fitted,\n",
       "a:link.sk-estimator-doc-link.fitted,\n",
       "a:visited.sk-estimator-doc-link.fitted {\n",
       "  /* fitted */\n",
       "  border: var(--sklearn-color-fitted-level-1) 1pt solid;\n",
       "  color: var(--sklearn-color-fitted-level-1);\n",
       "}\n",
       "\n",
       "/* On hover */\n",
       "div.sk-estimator:hover .sk-estimator-doc-link:hover,\n",
       ".sk-estimator-doc-link:hover,\n",
       "div.sk-label-container:hover .sk-estimator-doc-link:hover,\n",
       ".sk-estimator-doc-link:hover {\n",
       "  /* unfitted */\n",
       "  background-color: var(--sklearn-color-unfitted-level-3);\n",
       "  color: var(--sklearn-color-background);\n",
       "  text-decoration: none;\n",
       "}\n",
       "\n",
       "div.sk-estimator.fitted:hover .sk-estimator-doc-link.fitted:hover,\n",
       ".sk-estimator-doc-link.fitted:hover,\n",
       "div.sk-label-container:hover .sk-estimator-doc-link.fitted:hover,\n",
       ".sk-estimator-doc-link.fitted:hover {\n",
       "  /* fitted */\n",
       "  background-color: var(--sklearn-color-fitted-level-3);\n",
       "  color: var(--sklearn-color-background);\n",
       "  text-decoration: none;\n",
       "}\n",
       "\n",
       "/* Span, style for the box shown on hovering the info icon */\n",
       ".sk-estimator-doc-link span {\n",
       "  display: none;\n",
       "  z-index: 9999;\n",
       "  position: relative;\n",
       "  font-weight: normal;\n",
       "  right: .2ex;\n",
       "  padding: .5ex;\n",
       "  margin: .5ex;\n",
       "  width: min-content;\n",
       "  min-width: 20ex;\n",
       "  max-width: 50ex;\n",
       "  color: var(--sklearn-color-text);\n",
       "  box-shadow: 2pt 2pt 4pt #999;\n",
       "  /* unfitted */\n",
       "  background: var(--sklearn-color-unfitted-level-0);\n",
       "  border: .5pt solid var(--sklearn-color-unfitted-level-3);\n",
       "}\n",
       "\n",
       ".sk-estimator-doc-link.fitted span {\n",
       "  /* fitted */\n",
       "  background: var(--sklearn-color-fitted-level-0);\n",
       "  border: var(--sklearn-color-fitted-level-3);\n",
       "}\n",
       "\n",
       ".sk-estimator-doc-link:hover span {\n",
       "  display: block;\n",
       "}\n",
       "\n",
       "/* \"?\"-specific style due to the `<a>` HTML tag */\n",
       "\n",
       "#sk-container-id-1 a.estimator_doc_link {\n",
       "  float: right;\n",
       "  font-size: 1rem;\n",
       "  line-height: 1em;\n",
       "  font-family: monospace;\n",
       "  background-color: var(--sklearn-color-background);\n",
       "  border-radius: 1rem;\n",
       "  height: 1rem;\n",
       "  width: 1rem;\n",
       "  text-decoration: none;\n",
       "  /* unfitted */\n",
       "  color: var(--sklearn-color-unfitted-level-1);\n",
       "  border: var(--sklearn-color-unfitted-level-1) 1pt solid;\n",
       "}\n",
       "\n",
       "#sk-container-id-1 a.estimator_doc_link.fitted {\n",
       "  /* fitted */\n",
       "  border: var(--sklearn-color-fitted-level-1) 1pt solid;\n",
       "  color: var(--sklearn-color-fitted-level-1);\n",
       "}\n",
       "\n",
       "/* On hover */\n",
       "#sk-container-id-1 a.estimator_doc_link:hover {\n",
       "  /* unfitted */\n",
       "  background-color: var(--sklearn-color-unfitted-level-3);\n",
       "  color: var(--sklearn-color-background);\n",
       "  text-decoration: none;\n",
       "}\n",
       "\n",
       "#sk-container-id-1 a.estimator_doc_link.fitted:hover {\n",
       "  /* fitted */\n",
       "  background-color: var(--sklearn-color-fitted-level-3);\n",
       "}\n",
       "</style><div id=\"sk-container-id-1\" class=\"sk-top-container\"><div class=\"sk-text-repr-fallback\"><pre>KMeans(n_clusters=3)</pre><b>In a Jupyter environment, please rerun this cell to show the HTML representation or trust the notebook. <br />On GitHub, the HTML representation is unable to render, please try loading this page with nbviewer.org.</b></div><div class=\"sk-container\" hidden><div class=\"sk-item\"><div class=\"sk-estimator fitted sk-toggleable\"><input class=\"sk-toggleable__control sk-hidden--visually\" id=\"sk-estimator-id-1\" type=\"checkbox\" checked><label for=\"sk-estimator-id-1\" class=\"sk-toggleable__label fitted sk-toggleable__label-arrow fitted\">&nbsp;&nbsp;KMeans<a class=\"sk-estimator-doc-link fitted\" rel=\"noreferrer\" target=\"_blank\" href=\"https://scikit-learn.org/1.5/modules/generated/sklearn.cluster.KMeans.html\">?<span>Documentation for KMeans</span></a><span class=\"sk-estimator-doc-link fitted\">i<span>Fitted</span></span></label><div class=\"sk-toggleable__content fitted\"><pre>KMeans(n_clusters=3)</pre></div> </div></div></div></div>"
      ],
      "text/plain": [
       "KMeans(n_clusters=3)"
      ]
     },
     "execution_count": 10,
     "metadata": {},
     "output_type": "execute_result"
    }
   ],
   "source": [
    "model_kmean = KMeans(n_clusters=3)\n",
    "model_kmean.fit(x_scaled)"
   ]
  },
  {
   "cell_type": "code",
   "execution_count": 11,
   "metadata": {},
   "outputs": [
    {
     "name": "stdout",
     "output_type": "stream",
     "text": [
      "[[0.66773504 0.44310897 0.7571708  0.78205128]\n",
      " [0.19611111 0.595      0.07830508 0.06083333]\n",
      " [0.41203704 0.27690972 0.55896893 0.52083333]]\n"
     ]
    }
   ],
   "source": [
    "centroides = model_kmean.cluster_centers_\n",
    "print(centroides)"
   ]
  },
  {
   "cell_type": "code",
   "execution_count": 12,
   "metadata": {},
   "outputs": [
    {
     "name": "stdout",
     "output_type": "stream",
     "text": [
      "[[6.70384615 3.06346154 5.46730769 1.97692308]\n",
      " [5.006      3.428      1.462      0.246     ]\n",
      " [5.78333333 2.66458333 4.29791667 1.35      ]]\n"
     ]
    }
   ],
   "source": [
    "centroides_inverse = scaler.inverse_transform(centroides)\n",
    "print(centroides_inverse)"
   ]
  },
  {
   "cell_type": "code",
   "execution_count": 13,
   "metadata": {},
   "outputs": [],
   "source": [
    "labels= model_kmean.labels_\n",
    "df_result = X.copy()\n",
    "df_result['cluster'] = labels"
   ]
  },
  {
   "cell_type": "code",
   "execution_count": 14,
   "metadata": {},
   "outputs": [],
   "source": [
    "df_result['cluster'] = df_result['cluster'].astype(str)"
   ]
  },
  {
   "cell_type": "code",
   "execution_count": 15,
   "metadata": {},
   "outputs": [
    {
     "data": {
      "application/vnd.plotly.v1+json": {
       "config": {
        "plotlyServerURL": "https://plot.ly"
       },
       "data": [
        {
         "hovertemplate": "cluster=1<br>sepal_length=%{x}<br>sepal_width=%{y}<br>petal_length=%{z}<extra></extra>",
         "legendgroup": "1",
         "marker": {
          "color": "#636efa",
          "symbol": "circle"
         },
         "mode": "markers",
         "name": "1",
         "scene": "scene",
         "showlegend": true,
         "type": "scatter3d",
         "x": [
          5.1,
          4.9,
          4.7,
          4.6,
          5,
          5.4,
          4.6,
          5,
          4.4,
          4.9,
          5.4,
          4.8,
          4.8,
          4.3,
          5.8,
          5.7,
          5.4,
          5.1,
          5.7,
          5.1,
          5.4,
          5.1,
          4.6,
          5.1,
          4.8,
          5,
          5,
          5.2,
          5.2,
          4.7,
          4.8,
          5.4,
          5.2,
          5.5,
          4.9,
          5,
          5.5,
          4.9,
          4.4,
          5.1,
          5,
          4.5,
          4.4,
          5,
          5.1,
          4.8,
          5.1,
          4.6,
          5.3,
          5
         ],
         "y": [
          3.5,
          3,
          3.2,
          3.1,
          3.6,
          3.9,
          3.4,
          3.4,
          2.9,
          3.1,
          3.7,
          3.4,
          3,
          3,
          4,
          4.4,
          3.9,
          3.5,
          3.8,
          3.8,
          3.4,
          3.7,
          3.6,
          3.3,
          3.4,
          3,
          3.4,
          3.5,
          3.4,
          3.2,
          3.1,
          3.4,
          4.1,
          4.2,
          3.1,
          3.2,
          3.5,
          3.6,
          3,
          3.4,
          3.5,
          2.3,
          3.2,
          3.5,
          3.8,
          3,
          3.8,
          3.2,
          3.7,
          3.3
         ],
         "z": [
          1.4,
          1.4,
          1.3,
          1.5,
          1.4,
          1.7,
          1.4,
          1.5,
          1.4,
          1.5,
          1.5,
          1.6,
          1.4,
          1.1,
          1.2,
          1.5,
          1.3,
          1.4,
          1.7,
          1.5,
          1.7,
          1.5,
          1,
          1.7,
          1.9,
          1.6,
          1.6,
          1.5,
          1.4,
          1.6,
          1.6,
          1.5,
          1.5,
          1.4,
          1.5,
          1.2,
          1.3,
          1.4,
          1.3,
          1.5,
          1.3,
          1.3,
          1.3,
          1.6,
          1.9,
          1.4,
          1.6,
          1.4,
          1.5,
          1.4
         ]
        },
        {
         "hovertemplate": "cluster=0<br>sepal_length=%{x}<br>sepal_width=%{y}<br>petal_length=%{z}<extra></extra>",
         "legendgroup": "0",
         "marker": {
          "color": "#EF553B",
          "symbol": "circle"
         },
         "mode": "markers",
         "name": "0",
         "scene": "scene",
         "showlegend": true,
         "type": "scatter3d",
         "x": [
          7,
          6.4,
          6.9,
          6.3,
          6.7,
          5.9,
          6.8,
          6.7,
          6,
          6.7,
          6.3,
          7.1,
          6.3,
          6.5,
          7.6,
          7.3,
          6.7,
          7.2,
          6.5,
          6.4,
          6.8,
          5.8,
          6.4,
          6.5,
          7.7,
          7.7,
          6.9,
          7.7,
          6.3,
          6.7,
          7.2,
          6.2,
          6.1,
          6.4,
          7.2,
          7.4,
          7.9,
          6.4,
          7.7,
          6.3,
          6.4,
          6,
          6.9,
          6.7,
          6.9,
          6.8,
          6.7,
          6.7,
          6.3,
          6.5,
          6.2,
          5.9
         ],
         "y": [
          3.2,
          3.2,
          3.1,
          3.3,
          3.1,
          3.2,
          2.8,
          3,
          3.4,
          3.1,
          3.3,
          3,
          2.9,
          3,
          3,
          2.9,
          2.5,
          3.6,
          3.2,
          2.7,
          3,
          2.8,
          3.2,
          3,
          3.8,
          2.6,
          3.2,
          2.8,
          2.7,
          3.3,
          3.2,
          2.8,
          3,
          2.8,
          3,
          2.8,
          3.8,
          2.8,
          3,
          3.4,
          3.1,
          3,
          3.1,
          3.1,
          3.1,
          3.2,
          3.3,
          3,
          2.5,
          3,
          3.4,
          3
         ],
         "z": [
          4.7,
          4.5,
          4.9,
          4.7,
          4.4,
          4.8,
          4.8,
          5,
          4.5,
          4.7,
          6,
          5.9,
          5.6,
          5.8,
          6.6,
          6.3,
          5.8,
          6.1,
          5.1,
          5.3,
          5.5,
          5.1,
          5.3,
          5.5,
          6.7,
          6.9,
          5.7,
          6.7,
          4.9,
          5.7,
          6,
          4.8,
          4.9,
          5.6,
          5.8,
          6.1,
          6.4,
          5.6,
          6.1,
          5.6,
          5.5,
          4.8,
          5.4,
          5.6,
          5.1,
          5.9,
          5.7,
          5.2,
          5,
          5.2,
          5.4,
          5.1
         ]
        },
        {
         "hovertemplate": "cluster=2<br>sepal_length=%{x}<br>sepal_width=%{y}<br>petal_length=%{z}<extra></extra>",
         "legendgroup": "2",
         "marker": {
          "color": "#00cc96",
          "symbol": "circle"
         },
         "mode": "markers",
         "name": "2",
         "scene": "scene",
         "showlegend": true,
         "type": "scatter3d",
         "x": [
          5.5,
          6.5,
          5.7,
          4.9,
          6.6,
          5.2,
          5,
          5.9,
          6,
          6.1,
          5.6,
          5.6,
          5.8,
          6.2,
          5.6,
          6.1,
          6.3,
          6.1,
          6.4,
          6.6,
          6,
          5.7,
          5.5,
          5.5,
          5.8,
          6,
          5.4,
          6.3,
          5.6,
          5.5,
          5.5,
          6.1,
          5.8,
          5,
          5.6,
          5.7,
          5.7,
          6.2,
          5.1,
          5.7,
          5.8,
          4.9,
          5.7,
          6,
          5.6,
          6.3,
          6.1,
          5.8
         ],
         "y": [
          2.3,
          2.8,
          2.8,
          2.4,
          2.9,
          2.7,
          2,
          3,
          2.2,
          2.9,
          2.9,
          3,
          2.7,
          2.2,
          2.5,
          2.8,
          2.5,
          2.8,
          2.9,
          3,
          2.9,
          2.6,
          2.4,
          2.4,
          2.7,
          2.7,
          3,
          2.3,
          3,
          2.5,
          2.6,
          3,
          2.6,
          2.3,
          2.7,
          3,
          2.9,
          2.9,
          2.5,
          2.8,
          2.7,
          2.5,
          2.5,
          2.2,
          2.8,
          2.8,
          2.6,
          2.7
         ],
         "z": [
          4,
          4.6,
          4.5,
          3.3,
          4.6,
          3.9,
          3.5,
          4.2,
          4,
          4.7,
          3.6,
          4.5,
          4.1,
          4.5,
          3.9,
          4,
          4.9,
          4.7,
          4.3,
          4.4,
          4.5,
          3.5,
          3.8,
          3.7,
          3.9,
          5.1,
          4.5,
          4.4,
          4.1,
          4,
          4.4,
          4.6,
          4,
          3.3,
          4.2,
          4.2,
          4.2,
          4.3,
          3,
          4.1,
          5.1,
          4.5,
          5,
          5,
          4.9,
          5.1,
          5.6,
          5.1
         ]
        }
       ],
       "layout": {
        "legend": {
         "title": {
          "text": "cluster"
         },
         "tracegroupgap": 0
        },
        "margin": {
         "t": 60
        },
        "scene": {
         "domain": {
          "x": [
           0,
           1
          ],
          "y": [
           0,
           1
          ]
         },
         "xaxis": {
          "title": {
           "text": "sepal_length"
          }
         },
         "yaxis": {
          "title": {
           "text": "sepal_width"
          }
         },
         "zaxis": {
          "title": {
           "text": "petal_length"
          }
         }
        },
        "template": {
         "data": {
          "bar": [
           {
            "error_x": {
             "color": "#2a3f5f"
            },
            "error_y": {
             "color": "#2a3f5f"
            },
            "marker": {
             "line": {
              "color": "#E5ECF6",
              "width": 0.5
             },
             "pattern": {
              "fillmode": "overlay",
              "size": 10,
              "solidity": 0.2
             }
            },
            "type": "bar"
           }
          ],
          "barpolar": [
           {
            "marker": {
             "line": {
              "color": "#E5ECF6",
              "width": 0.5
             },
             "pattern": {
              "fillmode": "overlay",
              "size": 10,
              "solidity": 0.2
             }
            },
            "type": "barpolar"
           }
          ],
          "carpet": [
           {
            "aaxis": {
             "endlinecolor": "#2a3f5f",
             "gridcolor": "white",
             "linecolor": "white",
             "minorgridcolor": "white",
             "startlinecolor": "#2a3f5f"
            },
            "baxis": {
             "endlinecolor": "#2a3f5f",
             "gridcolor": "white",
             "linecolor": "white",
             "minorgridcolor": "white",
             "startlinecolor": "#2a3f5f"
            },
            "type": "carpet"
           }
          ],
          "choropleth": [
           {
            "colorbar": {
             "outlinewidth": 0,
             "ticks": ""
            },
            "type": "choropleth"
           }
          ],
          "contour": [
           {
            "colorbar": {
             "outlinewidth": 0,
             "ticks": ""
            },
            "colorscale": [
             [
              0,
              "#0d0887"
             ],
             [
              0.1111111111111111,
              "#46039f"
             ],
             [
              0.2222222222222222,
              "#7201a8"
             ],
             [
              0.3333333333333333,
              "#9c179e"
             ],
             [
              0.4444444444444444,
              "#bd3786"
             ],
             [
              0.5555555555555556,
              "#d8576b"
             ],
             [
              0.6666666666666666,
              "#ed7953"
             ],
             [
              0.7777777777777778,
              "#fb9f3a"
             ],
             [
              0.8888888888888888,
              "#fdca26"
             ],
             [
              1,
              "#f0f921"
             ]
            ],
            "type": "contour"
           }
          ],
          "contourcarpet": [
           {
            "colorbar": {
             "outlinewidth": 0,
             "ticks": ""
            },
            "type": "contourcarpet"
           }
          ],
          "heatmap": [
           {
            "colorbar": {
             "outlinewidth": 0,
             "ticks": ""
            },
            "colorscale": [
             [
              0,
              "#0d0887"
             ],
             [
              0.1111111111111111,
              "#46039f"
             ],
             [
              0.2222222222222222,
              "#7201a8"
             ],
             [
              0.3333333333333333,
              "#9c179e"
             ],
             [
              0.4444444444444444,
              "#bd3786"
             ],
             [
              0.5555555555555556,
              "#d8576b"
             ],
             [
              0.6666666666666666,
              "#ed7953"
             ],
             [
              0.7777777777777778,
              "#fb9f3a"
             ],
             [
              0.8888888888888888,
              "#fdca26"
             ],
             [
              1,
              "#f0f921"
             ]
            ],
            "type": "heatmap"
           }
          ],
          "heatmapgl": [
           {
            "colorbar": {
             "outlinewidth": 0,
             "ticks": ""
            },
            "colorscale": [
             [
              0,
              "#0d0887"
             ],
             [
              0.1111111111111111,
              "#46039f"
             ],
             [
              0.2222222222222222,
              "#7201a8"
             ],
             [
              0.3333333333333333,
              "#9c179e"
             ],
             [
              0.4444444444444444,
              "#bd3786"
             ],
             [
              0.5555555555555556,
              "#d8576b"
             ],
             [
              0.6666666666666666,
              "#ed7953"
             ],
             [
              0.7777777777777778,
              "#fb9f3a"
             ],
             [
              0.8888888888888888,
              "#fdca26"
             ],
             [
              1,
              "#f0f921"
             ]
            ],
            "type": "heatmapgl"
           }
          ],
          "histogram": [
           {
            "marker": {
             "pattern": {
              "fillmode": "overlay",
              "size": 10,
              "solidity": 0.2
             }
            },
            "type": "histogram"
           }
          ],
          "histogram2d": [
           {
            "colorbar": {
             "outlinewidth": 0,
             "ticks": ""
            },
            "colorscale": [
             [
              0,
              "#0d0887"
             ],
             [
              0.1111111111111111,
              "#46039f"
             ],
             [
              0.2222222222222222,
              "#7201a8"
             ],
             [
              0.3333333333333333,
              "#9c179e"
             ],
             [
              0.4444444444444444,
              "#bd3786"
             ],
             [
              0.5555555555555556,
              "#d8576b"
             ],
             [
              0.6666666666666666,
              "#ed7953"
             ],
             [
              0.7777777777777778,
              "#fb9f3a"
             ],
             [
              0.8888888888888888,
              "#fdca26"
             ],
             [
              1,
              "#f0f921"
             ]
            ],
            "type": "histogram2d"
           }
          ],
          "histogram2dcontour": [
           {
            "colorbar": {
             "outlinewidth": 0,
             "ticks": ""
            },
            "colorscale": [
             [
              0,
              "#0d0887"
             ],
             [
              0.1111111111111111,
              "#46039f"
             ],
             [
              0.2222222222222222,
              "#7201a8"
             ],
             [
              0.3333333333333333,
              "#9c179e"
             ],
             [
              0.4444444444444444,
              "#bd3786"
             ],
             [
              0.5555555555555556,
              "#d8576b"
             ],
             [
              0.6666666666666666,
              "#ed7953"
             ],
             [
              0.7777777777777778,
              "#fb9f3a"
             ],
             [
              0.8888888888888888,
              "#fdca26"
             ],
             [
              1,
              "#f0f921"
             ]
            ],
            "type": "histogram2dcontour"
           }
          ],
          "mesh3d": [
           {
            "colorbar": {
             "outlinewidth": 0,
             "ticks": ""
            },
            "type": "mesh3d"
           }
          ],
          "parcoords": [
           {
            "line": {
             "colorbar": {
              "outlinewidth": 0,
              "ticks": ""
             }
            },
            "type": "parcoords"
           }
          ],
          "pie": [
           {
            "automargin": true,
            "type": "pie"
           }
          ],
          "scatter": [
           {
            "fillpattern": {
             "fillmode": "overlay",
             "size": 10,
             "solidity": 0.2
            },
            "type": "scatter"
           }
          ],
          "scatter3d": [
           {
            "line": {
             "colorbar": {
              "outlinewidth": 0,
              "ticks": ""
             }
            },
            "marker": {
             "colorbar": {
              "outlinewidth": 0,
              "ticks": ""
             }
            },
            "type": "scatter3d"
           }
          ],
          "scattercarpet": [
           {
            "marker": {
             "colorbar": {
              "outlinewidth": 0,
              "ticks": ""
             }
            },
            "type": "scattercarpet"
           }
          ],
          "scattergeo": [
           {
            "marker": {
             "colorbar": {
              "outlinewidth": 0,
              "ticks": ""
             }
            },
            "type": "scattergeo"
           }
          ],
          "scattergl": [
           {
            "marker": {
             "colorbar": {
              "outlinewidth": 0,
              "ticks": ""
             }
            },
            "type": "scattergl"
           }
          ],
          "scattermapbox": [
           {
            "marker": {
             "colorbar": {
              "outlinewidth": 0,
              "ticks": ""
             }
            },
            "type": "scattermapbox"
           }
          ],
          "scatterpolar": [
           {
            "marker": {
             "colorbar": {
              "outlinewidth": 0,
              "ticks": ""
             }
            },
            "type": "scatterpolar"
           }
          ],
          "scatterpolargl": [
           {
            "marker": {
             "colorbar": {
              "outlinewidth": 0,
              "ticks": ""
             }
            },
            "type": "scatterpolargl"
           }
          ],
          "scatterternary": [
           {
            "marker": {
             "colorbar": {
              "outlinewidth": 0,
              "ticks": ""
             }
            },
            "type": "scatterternary"
           }
          ],
          "surface": [
           {
            "colorbar": {
             "outlinewidth": 0,
             "ticks": ""
            },
            "colorscale": [
             [
              0,
              "#0d0887"
             ],
             [
              0.1111111111111111,
              "#46039f"
             ],
             [
              0.2222222222222222,
              "#7201a8"
             ],
             [
              0.3333333333333333,
              "#9c179e"
             ],
             [
              0.4444444444444444,
              "#bd3786"
             ],
             [
              0.5555555555555556,
              "#d8576b"
             ],
             [
              0.6666666666666666,
              "#ed7953"
             ],
             [
              0.7777777777777778,
              "#fb9f3a"
             ],
             [
              0.8888888888888888,
              "#fdca26"
             ],
             [
              1,
              "#f0f921"
             ]
            ],
            "type": "surface"
           }
          ],
          "table": [
           {
            "cells": {
             "fill": {
              "color": "#EBF0F8"
             },
             "line": {
              "color": "white"
             }
            },
            "header": {
             "fill": {
              "color": "#C8D4E3"
             },
             "line": {
              "color": "white"
             }
            },
            "type": "table"
           }
          ]
         },
         "layout": {
          "annotationdefaults": {
           "arrowcolor": "#2a3f5f",
           "arrowhead": 0,
           "arrowwidth": 1
          },
          "autotypenumbers": "strict",
          "coloraxis": {
           "colorbar": {
            "outlinewidth": 0,
            "ticks": ""
           }
          },
          "colorscale": {
           "diverging": [
            [
             0,
             "#8e0152"
            ],
            [
             0.1,
             "#c51b7d"
            ],
            [
             0.2,
             "#de77ae"
            ],
            [
             0.3,
             "#f1b6da"
            ],
            [
             0.4,
             "#fde0ef"
            ],
            [
             0.5,
             "#f7f7f7"
            ],
            [
             0.6,
             "#e6f5d0"
            ],
            [
             0.7,
             "#b8e186"
            ],
            [
             0.8,
             "#7fbc41"
            ],
            [
             0.9,
             "#4d9221"
            ],
            [
             1,
             "#276419"
            ]
           ],
           "sequential": [
            [
             0,
             "#0d0887"
            ],
            [
             0.1111111111111111,
             "#46039f"
            ],
            [
             0.2222222222222222,
             "#7201a8"
            ],
            [
             0.3333333333333333,
             "#9c179e"
            ],
            [
             0.4444444444444444,
             "#bd3786"
            ],
            [
             0.5555555555555556,
             "#d8576b"
            ],
            [
             0.6666666666666666,
             "#ed7953"
            ],
            [
             0.7777777777777778,
             "#fb9f3a"
            ],
            [
             0.8888888888888888,
             "#fdca26"
            ],
            [
             1,
             "#f0f921"
            ]
           ],
           "sequentialminus": [
            [
             0,
             "#0d0887"
            ],
            [
             0.1111111111111111,
             "#46039f"
            ],
            [
             0.2222222222222222,
             "#7201a8"
            ],
            [
             0.3333333333333333,
             "#9c179e"
            ],
            [
             0.4444444444444444,
             "#bd3786"
            ],
            [
             0.5555555555555556,
             "#d8576b"
            ],
            [
             0.6666666666666666,
             "#ed7953"
            ],
            [
             0.7777777777777778,
             "#fb9f3a"
            ],
            [
             0.8888888888888888,
             "#fdca26"
            ],
            [
             1,
             "#f0f921"
            ]
           ]
          },
          "colorway": [
           "#636efa",
           "#EF553B",
           "#00cc96",
           "#ab63fa",
           "#FFA15A",
           "#19d3f3",
           "#FF6692",
           "#B6E880",
           "#FF97FF",
           "#FECB52"
          ],
          "font": {
           "color": "#2a3f5f"
          },
          "geo": {
           "bgcolor": "white",
           "lakecolor": "white",
           "landcolor": "#E5ECF6",
           "showlakes": true,
           "showland": true,
           "subunitcolor": "white"
          },
          "hoverlabel": {
           "align": "left"
          },
          "hovermode": "closest",
          "mapbox": {
           "style": "light"
          },
          "paper_bgcolor": "white",
          "plot_bgcolor": "#E5ECF6",
          "polar": {
           "angularaxis": {
            "gridcolor": "white",
            "linecolor": "white",
            "ticks": ""
           },
           "bgcolor": "#E5ECF6",
           "radialaxis": {
            "gridcolor": "white",
            "linecolor": "white",
            "ticks": ""
           }
          },
          "scene": {
           "xaxis": {
            "backgroundcolor": "#E5ECF6",
            "gridcolor": "white",
            "gridwidth": 2,
            "linecolor": "white",
            "showbackground": true,
            "ticks": "",
            "zerolinecolor": "white"
           },
           "yaxis": {
            "backgroundcolor": "#E5ECF6",
            "gridcolor": "white",
            "gridwidth": 2,
            "linecolor": "white",
            "showbackground": true,
            "ticks": "",
            "zerolinecolor": "white"
           },
           "zaxis": {
            "backgroundcolor": "#E5ECF6",
            "gridcolor": "white",
            "gridwidth": 2,
            "linecolor": "white",
            "showbackground": true,
            "ticks": "",
            "zerolinecolor": "white"
           }
          },
          "shapedefaults": {
           "line": {
            "color": "#2a3f5f"
           }
          },
          "ternary": {
           "aaxis": {
            "gridcolor": "white",
            "linecolor": "white",
            "ticks": ""
           },
           "baxis": {
            "gridcolor": "white",
            "linecolor": "white",
            "ticks": ""
           },
           "bgcolor": "#E5ECF6",
           "caxis": {
            "gridcolor": "white",
            "linecolor": "white",
            "ticks": ""
           }
          },
          "title": {
           "x": 0.05
          },
          "xaxis": {
           "automargin": true,
           "gridcolor": "white",
           "linecolor": "white",
           "ticks": "",
           "title": {
            "standoff": 15
           },
           "zerolinecolor": "white",
           "zerolinewidth": 2
          },
          "yaxis": {
           "automargin": true,
           "gridcolor": "white",
           "linecolor": "white",
           "ticks": "",
           "title": {
            "standoff": 15
           },
           "zerolinecolor": "white",
           "zerolinewidth": 2
          }
         }
        }
       }
      }
     },
     "metadata": {},
     "output_type": "display_data"
    }
   ],
   "source": [
    "fig = px.scatter_3d(df_result, x='sepal_length', y='sepal_width', z='petal_length',color='cluster')\n",
    "\n",
    "\n",
    "fig.show()\n"
   ]
  },
  {
   "cell_type": "code",
   "execution_count": 16,
   "metadata": {},
   "outputs": [
    {
     "data": {
      "application/vnd.plotly.v1+json": {
       "config": {
        "plotlyServerURL": "https://plot.ly"
       },
       "data": [
        {
         "dimensions": [
          {
           "axis": {
            "matches": true
           },
           "label": "sepal_length",
           "values": [
            5.1,
            4.9,
            4.7,
            4.6,
            5,
            5.4,
            4.6,
            5,
            4.4,
            4.9,
            5.4,
            4.8,
            4.8,
            4.3,
            5.8,
            5.7,
            5.4,
            5.1,
            5.7,
            5.1,
            5.4,
            5.1,
            4.6,
            5.1,
            4.8,
            5,
            5,
            5.2,
            5.2,
            4.7,
            4.8,
            5.4,
            5.2,
            5.5,
            4.9,
            5,
            5.5,
            4.9,
            4.4,
            5.1,
            5,
            4.5,
            4.4,
            5,
            5.1,
            4.8,
            5.1,
            4.6,
            5.3,
            5
           ]
          },
          {
           "axis": {
            "matches": true
           },
           "label": "sepal_width",
           "values": [
            3.5,
            3,
            3.2,
            3.1,
            3.6,
            3.9,
            3.4,
            3.4,
            2.9,
            3.1,
            3.7,
            3.4,
            3,
            3,
            4,
            4.4,
            3.9,
            3.5,
            3.8,
            3.8,
            3.4,
            3.7,
            3.6,
            3.3,
            3.4,
            3,
            3.4,
            3.5,
            3.4,
            3.2,
            3.1,
            3.4,
            4.1,
            4.2,
            3.1,
            3.2,
            3.5,
            3.6,
            3,
            3.4,
            3.5,
            2.3,
            3.2,
            3.5,
            3.8,
            3,
            3.8,
            3.2,
            3.7,
            3.3
           ]
          },
          {
           "axis": {
            "matches": true
           },
           "label": "petal_length",
           "values": [
            1.4,
            1.4,
            1.3,
            1.5,
            1.4,
            1.7,
            1.4,
            1.5,
            1.4,
            1.5,
            1.5,
            1.6,
            1.4,
            1.1,
            1.2,
            1.5,
            1.3,
            1.4,
            1.7,
            1.5,
            1.7,
            1.5,
            1,
            1.7,
            1.9,
            1.6,
            1.6,
            1.5,
            1.4,
            1.6,
            1.6,
            1.5,
            1.5,
            1.4,
            1.5,
            1.2,
            1.3,
            1.4,
            1.3,
            1.5,
            1.3,
            1.3,
            1.3,
            1.6,
            1.9,
            1.4,
            1.6,
            1.4,
            1.5,
            1.4
           ]
          },
          {
           "axis": {
            "matches": true
           },
           "label": "petal_width",
           "values": [
            0.2,
            0.2,
            0.2,
            0.2,
            0.2,
            0.4,
            0.3,
            0.2,
            0.2,
            0.1,
            0.2,
            0.2,
            0.1,
            0.1,
            0.2,
            0.4,
            0.4,
            0.3,
            0.3,
            0.3,
            0.2,
            0.4,
            0.2,
            0.5,
            0.2,
            0.2,
            0.4,
            0.2,
            0.2,
            0.2,
            0.2,
            0.4,
            0.1,
            0.2,
            0.2,
            0.2,
            0.2,
            0.1,
            0.2,
            0.2,
            0.3,
            0.3,
            0.2,
            0.6,
            0.4,
            0.3,
            0.2,
            0.2,
            0.2,
            0.2
           ]
          }
         ],
         "hovertemplate": "cluster=1<br>%{xaxis.title.text}=%{x}<br>%{yaxis.title.text}=%{y}<extra></extra>",
         "legendgroup": "1",
         "marker": {
          "color": "#636efa",
          "symbol": "circle"
         },
         "name": "1",
         "showlegend": true,
         "type": "splom"
        },
        {
         "dimensions": [
          {
           "axis": {
            "matches": true
           },
           "label": "sepal_length",
           "values": [
            7,
            6.4,
            6.9,
            6.3,
            6.7,
            5.9,
            6.8,
            6.7,
            6,
            6.7,
            6.3,
            7.1,
            6.3,
            6.5,
            7.6,
            7.3,
            6.7,
            7.2,
            6.5,
            6.4,
            6.8,
            5.8,
            6.4,
            6.5,
            7.7,
            7.7,
            6.9,
            7.7,
            6.3,
            6.7,
            7.2,
            6.2,
            6.1,
            6.4,
            7.2,
            7.4,
            7.9,
            6.4,
            7.7,
            6.3,
            6.4,
            6,
            6.9,
            6.7,
            6.9,
            6.8,
            6.7,
            6.7,
            6.3,
            6.5,
            6.2,
            5.9
           ]
          },
          {
           "axis": {
            "matches": true
           },
           "label": "sepal_width",
           "values": [
            3.2,
            3.2,
            3.1,
            3.3,
            3.1,
            3.2,
            2.8,
            3,
            3.4,
            3.1,
            3.3,
            3,
            2.9,
            3,
            3,
            2.9,
            2.5,
            3.6,
            3.2,
            2.7,
            3,
            2.8,
            3.2,
            3,
            3.8,
            2.6,
            3.2,
            2.8,
            2.7,
            3.3,
            3.2,
            2.8,
            3,
            2.8,
            3,
            2.8,
            3.8,
            2.8,
            3,
            3.4,
            3.1,
            3,
            3.1,
            3.1,
            3.1,
            3.2,
            3.3,
            3,
            2.5,
            3,
            3.4,
            3
           ]
          },
          {
           "axis": {
            "matches": true
           },
           "label": "petal_length",
           "values": [
            4.7,
            4.5,
            4.9,
            4.7,
            4.4,
            4.8,
            4.8,
            5,
            4.5,
            4.7,
            6,
            5.9,
            5.6,
            5.8,
            6.6,
            6.3,
            5.8,
            6.1,
            5.1,
            5.3,
            5.5,
            5.1,
            5.3,
            5.5,
            6.7,
            6.9,
            5.7,
            6.7,
            4.9,
            5.7,
            6,
            4.8,
            4.9,
            5.6,
            5.8,
            6.1,
            6.4,
            5.6,
            6.1,
            5.6,
            5.5,
            4.8,
            5.4,
            5.6,
            5.1,
            5.9,
            5.7,
            5.2,
            5,
            5.2,
            5.4,
            5.1
           ]
          },
          {
           "axis": {
            "matches": true
           },
           "label": "petal_width",
           "values": [
            1.4,
            1.5,
            1.5,
            1.6,
            1.4,
            1.8,
            1.4,
            1.7,
            1.6,
            1.5,
            2.5,
            2.1,
            1.8,
            2.2,
            2.1,
            1.8,
            1.8,
            2.5,
            2,
            1.9,
            2.1,
            2.4,
            2.3,
            1.8,
            2.2,
            2.3,
            2.3,
            2,
            1.8,
            2.1,
            1.8,
            1.8,
            1.8,
            2.1,
            1.6,
            1.9,
            2,
            2.2,
            2.3,
            2.4,
            1.8,
            1.8,
            2.1,
            2.4,
            2.3,
            2.3,
            2.5,
            2.3,
            1.9,
            2,
            2.3,
            1.8
           ]
          }
         ],
         "hovertemplate": "cluster=0<br>%{xaxis.title.text}=%{x}<br>%{yaxis.title.text}=%{y}<extra></extra>",
         "legendgroup": "0",
         "marker": {
          "color": "#EF553B",
          "symbol": "circle"
         },
         "name": "0",
         "showlegend": true,
         "type": "splom"
        },
        {
         "dimensions": [
          {
           "axis": {
            "matches": true
           },
           "label": "sepal_length",
           "values": [
            5.5,
            6.5,
            5.7,
            4.9,
            6.6,
            5.2,
            5,
            5.9,
            6,
            6.1,
            5.6,
            5.6,
            5.8,
            6.2,
            5.6,
            6.1,
            6.3,
            6.1,
            6.4,
            6.6,
            6,
            5.7,
            5.5,
            5.5,
            5.8,
            6,
            5.4,
            6.3,
            5.6,
            5.5,
            5.5,
            6.1,
            5.8,
            5,
            5.6,
            5.7,
            5.7,
            6.2,
            5.1,
            5.7,
            5.8,
            4.9,
            5.7,
            6,
            5.6,
            6.3,
            6.1,
            5.8
           ]
          },
          {
           "axis": {
            "matches": true
           },
           "label": "sepal_width",
           "values": [
            2.3,
            2.8,
            2.8,
            2.4,
            2.9,
            2.7,
            2,
            3,
            2.2,
            2.9,
            2.9,
            3,
            2.7,
            2.2,
            2.5,
            2.8,
            2.5,
            2.8,
            2.9,
            3,
            2.9,
            2.6,
            2.4,
            2.4,
            2.7,
            2.7,
            3,
            2.3,
            3,
            2.5,
            2.6,
            3,
            2.6,
            2.3,
            2.7,
            3,
            2.9,
            2.9,
            2.5,
            2.8,
            2.7,
            2.5,
            2.5,
            2.2,
            2.8,
            2.8,
            2.6,
            2.7
           ]
          },
          {
           "axis": {
            "matches": true
           },
           "label": "petal_length",
           "values": [
            4,
            4.6,
            4.5,
            3.3,
            4.6,
            3.9,
            3.5,
            4.2,
            4,
            4.7,
            3.6,
            4.5,
            4.1,
            4.5,
            3.9,
            4,
            4.9,
            4.7,
            4.3,
            4.4,
            4.5,
            3.5,
            3.8,
            3.7,
            3.9,
            5.1,
            4.5,
            4.4,
            4.1,
            4,
            4.4,
            4.6,
            4,
            3.3,
            4.2,
            4.2,
            4.2,
            4.3,
            3,
            4.1,
            5.1,
            4.5,
            5,
            5,
            4.9,
            5.1,
            5.6,
            5.1
           ]
          },
          {
           "axis": {
            "matches": true
           },
           "label": "petal_width",
           "values": [
            1.3,
            1.5,
            1.3,
            1,
            1.3,
            1.4,
            1,
            1.5,
            1,
            1.4,
            1.3,
            1.5,
            1,
            1.5,
            1.1,
            1.3,
            1.5,
            1.2,
            1.3,
            1.4,
            1.5,
            1,
            1.1,
            1,
            1.2,
            1.6,
            1.5,
            1.3,
            1.3,
            1.3,
            1.2,
            1.4,
            1.2,
            1,
            1.3,
            1.2,
            1.3,
            1.3,
            1.1,
            1.3,
            1.9,
            1.7,
            2,
            1.5,
            2,
            1.5,
            1.4,
            1.9
           ]
          }
         ],
         "hovertemplate": "cluster=2<br>%{xaxis.title.text}=%{x}<br>%{yaxis.title.text}=%{y}<extra></extra>",
         "legendgroup": "2",
         "marker": {
          "color": "#00cc96",
          "symbol": "circle"
         },
         "name": "2",
         "showlegend": true,
         "type": "splom"
        }
       ],
       "layout": {
        "dragmode": "select",
        "height": 1500,
        "legend": {
         "title": {
          "text": "cluster"
         },
         "tracegroupgap": 0
        },
        "margin": {
         "t": 60
        },
        "template": {
         "data": {
          "bar": [
           {
            "error_x": {
             "color": "#2a3f5f"
            },
            "error_y": {
             "color": "#2a3f5f"
            },
            "marker": {
             "line": {
              "color": "#E5ECF6",
              "width": 0.5
             },
             "pattern": {
              "fillmode": "overlay",
              "size": 10,
              "solidity": 0.2
             }
            },
            "type": "bar"
           }
          ],
          "barpolar": [
           {
            "marker": {
             "line": {
              "color": "#E5ECF6",
              "width": 0.5
             },
             "pattern": {
              "fillmode": "overlay",
              "size": 10,
              "solidity": 0.2
             }
            },
            "type": "barpolar"
           }
          ],
          "carpet": [
           {
            "aaxis": {
             "endlinecolor": "#2a3f5f",
             "gridcolor": "white",
             "linecolor": "white",
             "minorgridcolor": "white",
             "startlinecolor": "#2a3f5f"
            },
            "baxis": {
             "endlinecolor": "#2a3f5f",
             "gridcolor": "white",
             "linecolor": "white",
             "minorgridcolor": "white",
             "startlinecolor": "#2a3f5f"
            },
            "type": "carpet"
           }
          ],
          "choropleth": [
           {
            "colorbar": {
             "outlinewidth": 0,
             "ticks": ""
            },
            "type": "choropleth"
           }
          ],
          "contour": [
           {
            "colorbar": {
             "outlinewidth": 0,
             "ticks": ""
            },
            "colorscale": [
             [
              0,
              "#0d0887"
             ],
             [
              0.1111111111111111,
              "#46039f"
             ],
             [
              0.2222222222222222,
              "#7201a8"
             ],
             [
              0.3333333333333333,
              "#9c179e"
             ],
             [
              0.4444444444444444,
              "#bd3786"
             ],
             [
              0.5555555555555556,
              "#d8576b"
             ],
             [
              0.6666666666666666,
              "#ed7953"
             ],
             [
              0.7777777777777778,
              "#fb9f3a"
             ],
             [
              0.8888888888888888,
              "#fdca26"
             ],
             [
              1,
              "#f0f921"
             ]
            ],
            "type": "contour"
           }
          ],
          "contourcarpet": [
           {
            "colorbar": {
             "outlinewidth": 0,
             "ticks": ""
            },
            "type": "contourcarpet"
           }
          ],
          "heatmap": [
           {
            "colorbar": {
             "outlinewidth": 0,
             "ticks": ""
            },
            "colorscale": [
             [
              0,
              "#0d0887"
             ],
             [
              0.1111111111111111,
              "#46039f"
             ],
             [
              0.2222222222222222,
              "#7201a8"
             ],
             [
              0.3333333333333333,
              "#9c179e"
             ],
             [
              0.4444444444444444,
              "#bd3786"
             ],
             [
              0.5555555555555556,
              "#d8576b"
             ],
             [
              0.6666666666666666,
              "#ed7953"
             ],
             [
              0.7777777777777778,
              "#fb9f3a"
             ],
             [
              0.8888888888888888,
              "#fdca26"
             ],
             [
              1,
              "#f0f921"
             ]
            ],
            "type": "heatmap"
           }
          ],
          "heatmapgl": [
           {
            "colorbar": {
             "outlinewidth": 0,
             "ticks": ""
            },
            "colorscale": [
             [
              0,
              "#0d0887"
             ],
             [
              0.1111111111111111,
              "#46039f"
             ],
             [
              0.2222222222222222,
              "#7201a8"
             ],
             [
              0.3333333333333333,
              "#9c179e"
             ],
             [
              0.4444444444444444,
              "#bd3786"
             ],
             [
              0.5555555555555556,
              "#d8576b"
             ],
             [
              0.6666666666666666,
              "#ed7953"
             ],
             [
              0.7777777777777778,
              "#fb9f3a"
             ],
             [
              0.8888888888888888,
              "#fdca26"
             ],
             [
              1,
              "#f0f921"
             ]
            ],
            "type": "heatmapgl"
           }
          ],
          "histogram": [
           {
            "marker": {
             "pattern": {
              "fillmode": "overlay",
              "size": 10,
              "solidity": 0.2
             }
            },
            "type": "histogram"
           }
          ],
          "histogram2d": [
           {
            "colorbar": {
             "outlinewidth": 0,
             "ticks": ""
            },
            "colorscale": [
             [
              0,
              "#0d0887"
             ],
             [
              0.1111111111111111,
              "#46039f"
             ],
             [
              0.2222222222222222,
              "#7201a8"
             ],
             [
              0.3333333333333333,
              "#9c179e"
             ],
             [
              0.4444444444444444,
              "#bd3786"
             ],
             [
              0.5555555555555556,
              "#d8576b"
             ],
             [
              0.6666666666666666,
              "#ed7953"
             ],
             [
              0.7777777777777778,
              "#fb9f3a"
             ],
             [
              0.8888888888888888,
              "#fdca26"
             ],
             [
              1,
              "#f0f921"
             ]
            ],
            "type": "histogram2d"
           }
          ],
          "histogram2dcontour": [
           {
            "colorbar": {
             "outlinewidth": 0,
             "ticks": ""
            },
            "colorscale": [
             [
              0,
              "#0d0887"
             ],
             [
              0.1111111111111111,
              "#46039f"
             ],
             [
              0.2222222222222222,
              "#7201a8"
             ],
             [
              0.3333333333333333,
              "#9c179e"
             ],
             [
              0.4444444444444444,
              "#bd3786"
             ],
             [
              0.5555555555555556,
              "#d8576b"
             ],
             [
              0.6666666666666666,
              "#ed7953"
             ],
             [
              0.7777777777777778,
              "#fb9f3a"
             ],
             [
              0.8888888888888888,
              "#fdca26"
             ],
             [
              1,
              "#f0f921"
             ]
            ],
            "type": "histogram2dcontour"
           }
          ],
          "mesh3d": [
           {
            "colorbar": {
             "outlinewidth": 0,
             "ticks": ""
            },
            "type": "mesh3d"
           }
          ],
          "parcoords": [
           {
            "line": {
             "colorbar": {
              "outlinewidth": 0,
              "ticks": ""
             }
            },
            "type": "parcoords"
           }
          ],
          "pie": [
           {
            "automargin": true,
            "type": "pie"
           }
          ],
          "scatter": [
           {
            "fillpattern": {
             "fillmode": "overlay",
             "size": 10,
             "solidity": 0.2
            },
            "type": "scatter"
           }
          ],
          "scatter3d": [
           {
            "line": {
             "colorbar": {
              "outlinewidth": 0,
              "ticks": ""
             }
            },
            "marker": {
             "colorbar": {
              "outlinewidth": 0,
              "ticks": ""
             }
            },
            "type": "scatter3d"
           }
          ],
          "scattercarpet": [
           {
            "marker": {
             "colorbar": {
              "outlinewidth": 0,
              "ticks": ""
             }
            },
            "type": "scattercarpet"
           }
          ],
          "scattergeo": [
           {
            "marker": {
             "colorbar": {
              "outlinewidth": 0,
              "ticks": ""
             }
            },
            "type": "scattergeo"
           }
          ],
          "scattergl": [
           {
            "marker": {
             "colorbar": {
              "outlinewidth": 0,
              "ticks": ""
             }
            },
            "type": "scattergl"
           }
          ],
          "scattermapbox": [
           {
            "marker": {
             "colorbar": {
              "outlinewidth": 0,
              "ticks": ""
             }
            },
            "type": "scattermapbox"
           }
          ],
          "scatterpolar": [
           {
            "marker": {
             "colorbar": {
              "outlinewidth": 0,
              "ticks": ""
             }
            },
            "type": "scatterpolar"
           }
          ],
          "scatterpolargl": [
           {
            "marker": {
             "colorbar": {
              "outlinewidth": 0,
              "ticks": ""
             }
            },
            "type": "scatterpolargl"
           }
          ],
          "scatterternary": [
           {
            "marker": {
             "colorbar": {
              "outlinewidth": 0,
              "ticks": ""
             }
            },
            "type": "scatterternary"
           }
          ],
          "surface": [
           {
            "colorbar": {
             "outlinewidth": 0,
             "ticks": ""
            },
            "colorscale": [
             [
              0,
              "#0d0887"
             ],
             [
              0.1111111111111111,
              "#46039f"
             ],
             [
              0.2222222222222222,
              "#7201a8"
             ],
             [
              0.3333333333333333,
              "#9c179e"
             ],
             [
              0.4444444444444444,
              "#bd3786"
             ],
             [
              0.5555555555555556,
              "#d8576b"
             ],
             [
              0.6666666666666666,
              "#ed7953"
             ],
             [
              0.7777777777777778,
              "#fb9f3a"
             ],
             [
              0.8888888888888888,
              "#fdca26"
             ],
             [
              1,
              "#f0f921"
             ]
            ],
            "type": "surface"
           }
          ],
          "table": [
           {
            "cells": {
             "fill": {
              "color": "#EBF0F8"
             },
             "line": {
              "color": "white"
             }
            },
            "header": {
             "fill": {
              "color": "#C8D4E3"
             },
             "line": {
              "color": "white"
             }
            },
            "type": "table"
           }
          ]
         },
         "layout": {
          "annotationdefaults": {
           "arrowcolor": "#2a3f5f",
           "arrowhead": 0,
           "arrowwidth": 1
          },
          "autotypenumbers": "strict",
          "coloraxis": {
           "colorbar": {
            "outlinewidth": 0,
            "ticks": ""
           }
          },
          "colorscale": {
           "diverging": [
            [
             0,
             "#8e0152"
            ],
            [
             0.1,
             "#c51b7d"
            ],
            [
             0.2,
             "#de77ae"
            ],
            [
             0.3,
             "#f1b6da"
            ],
            [
             0.4,
             "#fde0ef"
            ],
            [
             0.5,
             "#f7f7f7"
            ],
            [
             0.6,
             "#e6f5d0"
            ],
            [
             0.7,
             "#b8e186"
            ],
            [
             0.8,
             "#7fbc41"
            ],
            [
             0.9,
             "#4d9221"
            ],
            [
             1,
             "#276419"
            ]
           ],
           "sequential": [
            [
             0,
             "#0d0887"
            ],
            [
             0.1111111111111111,
             "#46039f"
            ],
            [
             0.2222222222222222,
             "#7201a8"
            ],
            [
             0.3333333333333333,
             "#9c179e"
            ],
            [
             0.4444444444444444,
             "#bd3786"
            ],
            [
             0.5555555555555556,
             "#d8576b"
            ],
            [
             0.6666666666666666,
             "#ed7953"
            ],
            [
             0.7777777777777778,
             "#fb9f3a"
            ],
            [
             0.8888888888888888,
             "#fdca26"
            ],
            [
             1,
             "#f0f921"
            ]
           ],
           "sequentialminus": [
            [
             0,
             "#0d0887"
            ],
            [
             0.1111111111111111,
             "#46039f"
            ],
            [
             0.2222222222222222,
             "#7201a8"
            ],
            [
             0.3333333333333333,
             "#9c179e"
            ],
            [
             0.4444444444444444,
             "#bd3786"
            ],
            [
             0.5555555555555556,
             "#d8576b"
            ],
            [
             0.6666666666666666,
             "#ed7953"
            ],
            [
             0.7777777777777778,
             "#fb9f3a"
            ],
            [
             0.8888888888888888,
             "#fdca26"
            ],
            [
             1,
             "#f0f921"
            ]
           ]
          },
          "colorway": [
           "#636efa",
           "#EF553B",
           "#00cc96",
           "#ab63fa",
           "#FFA15A",
           "#19d3f3",
           "#FF6692",
           "#B6E880",
           "#FF97FF",
           "#FECB52"
          ],
          "font": {
           "color": "#2a3f5f"
          },
          "geo": {
           "bgcolor": "white",
           "lakecolor": "white",
           "landcolor": "#E5ECF6",
           "showlakes": true,
           "showland": true,
           "subunitcolor": "white"
          },
          "hoverlabel": {
           "align": "left"
          },
          "hovermode": "closest",
          "mapbox": {
           "style": "light"
          },
          "paper_bgcolor": "white",
          "plot_bgcolor": "#E5ECF6",
          "polar": {
           "angularaxis": {
            "gridcolor": "white",
            "linecolor": "white",
            "ticks": ""
           },
           "bgcolor": "#E5ECF6",
           "radialaxis": {
            "gridcolor": "white",
            "linecolor": "white",
            "ticks": ""
           }
          },
          "scene": {
           "xaxis": {
            "backgroundcolor": "#E5ECF6",
            "gridcolor": "white",
            "gridwidth": 2,
            "linecolor": "white",
            "showbackground": true,
            "ticks": "",
            "zerolinecolor": "white"
           },
           "yaxis": {
            "backgroundcolor": "#E5ECF6",
            "gridcolor": "white",
            "gridwidth": 2,
            "linecolor": "white",
            "showbackground": true,
            "ticks": "",
            "zerolinecolor": "white"
           },
           "zaxis": {
            "backgroundcolor": "#E5ECF6",
            "gridcolor": "white",
            "gridwidth": 2,
            "linecolor": "white",
            "showbackground": true,
            "ticks": "",
            "zerolinecolor": "white"
           }
          },
          "shapedefaults": {
           "line": {
            "color": "#2a3f5f"
           }
          },
          "ternary": {
           "aaxis": {
            "gridcolor": "white",
            "linecolor": "white",
            "ticks": ""
           },
           "baxis": {
            "gridcolor": "white",
            "linecolor": "white",
            "ticks": ""
           },
           "bgcolor": "#E5ECF6",
           "caxis": {
            "gridcolor": "white",
            "linecolor": "white",
            "ticks": ""
           }
          },
          "title": {
           "x": 0.05
          },
          "xaxis": {
           "automargin": true,
           "gridcolor": "white",
           "linecolor": "white",
           "ticks": "",
           "title": {
            "standoff": 15
           },
           "zerolinecolor": "white",
           "zerolinewidth": 2
          },
          "yaxis": {
           "automargin": true,
           "gridcolor": "white",
           "linecolor": "white",
           "ticks": "",
           "title": {
            "standoff": 15
           },
           "zerolinecolor": "white",
           "zerolinewidth": 2
          }
         }
        },
        "width": 1500
       }
      }
     },
     "metadata": {},
     "output_type": "display_data"
    }
   ],
   "source": [
    "fig = px.scatter_matrix(data_frame = df_result,\n",
    "                        dimensions =  df_result.drop(columns = 'cluster'),\n",
    "                        height = 1500,\n",
    "                        width = 1500,\n",
    "                        color = 'cluster'\n",
    "                        )\n",
    "fig.show()"
   ]
  },
  {
   "cell_type": "code",
   "execution_count": 17,
   "metadata": {},
   "outputs": [
    {
     "data": {
      "text/plain": [
       "('sepal_length', 'sepal_width', 'petal_length', 'petal_width', 'species')"
      ]
     },
     "execution_count": 17,
     "metadata": {},
     "output_type": "execute_result"
    }
   ],
   "source": [
    "'sepal_length', 'sepal_width', 'petal_length', 'petal_width', 'species'"
   ]
  },
  {
   "cell_type": "code",
   "execution_count": 18,
   "metadata": {},
   "outputs": [],
   "source": [
    "df_gby = df_result.groupby(\"cluster\").agg({\"sepal_length\" : ['min', 'max', 'mean', 'median'],\n",
    "                                           \"sepal_width\" : ['min', 'max', 'mean', 'median'],\n",
    "                                           \"petal_width\" : ['min', 'max', 'mean', 'median'],\n",
    "                                           \"petal_length\" : ['min', 'max', 'mean', 'median'],\n",
    "                                           })"
   ]
  },
  {
   "cell_type": "code",
   "execution_count": 19,
   "metadata": {},
   "outputs": [
    {
     "data": {
      "text/html": [
       "<div>\n",
       "<style scoped>\n",
       "    .dataframe tbody tr th:only-of-type {\n",
       "        vertical-align: middle;\n",
       "    }\n",
       "\n",
       "    .dataframe tbody tr th {\n",
       "        vertical-align: top;\n",
       "    }\n",
       "\n",
       "    .dataframe thead tr th {\n",
       "        text-align: left;\n",
       "    }\n",
       "\n",
       "    .dataframe thead tr:last-of-type th {\n",
       "        text-align: right;\n",
       "    }\n",
       "</style>\n",
       "<table border=\"1\" class=\"dataframe\">\n",
       "  <thead>\n",
       "    <tr>\n",
       "      <th></th>\n",
       "      <th colspan=\"4\" halign=\"left\">sepal_length</th>\n",
       "      <th colspan=\"4\" halign=\"left\">sepal_width</th>\n",
       "      <th colspan=\"4\" halign=\"left\">petal_width</th>\n",
       "      <th colspan=\"4\" halign=\"left\">petal_length</th>\n",
       "    </tr>\n",
       "    <tr>\n",
       "      <th></th>\n",
       "      <th>min</th>\n",
       "      <th>max</th>\n",
       "      <th>mean</th>\n",
       "      <th>median</th>\n",
       "      <th>min</th>\n",
       "      <th>max</th>\n",
       "      <th>mean</th>\n",
       "      <th>median</th>\n",
       "      <th>min</th>\n",
       "      <th>max</th>\n",
       "      <th>mean</th>\n",
       "      <th>median</th>\n",
       "      <th>min</th>\n",
       "      <th>max</th>\n",
       "      <th>mean</th>\n",
       "      <th>median</th>\n",
       "    </tr>\n",
       "    <tr>\n",
       "      <th>cluster</th>\n",
       "      <th></th>\n",
       "      <th></th>\n",
       "      <th></th>\n",
       "      <th></th>\n",
       "      <th></th>\n",
       "      <th></th>\n",
       "      <th></th>\n",
       "      <th></th>\n",
       "      <th></th>\n",
       "      <th></th>\n",
       "      <th></th>\n",
       "      <th></th>\n",
       "      <th></th>\n",
       "      <th></th>\n",
       "      <th></th>\n",
       "      <th></th>\n",
       "    </tr>\n",
       "  </thead>\n",
       "  <tbody>\n",
       "    <tr>\n",
       "      <th>0</th>\n",
       "      <td>5.8</td>\n",
       "      <td>7.9</td>\n",
       "      <td>6.703846</td>\n",
       "      <td>6.70</td>\n",
       "      <td>2.5</td>\n",
       "      <td>3.8</td>\n",
       "      <td>3.063462</td>\n",
       "      <td>3.0</td>\n",
       "      <td>1.4</td>\n",
       "      <td>2.5</td>\n",
       "      <td>1.976923</td>\n",
       "      <td>2.0</td>\n",
       "      <td>4.4</td>\n",
       "      <td>6.9</td>\n",
       "      <td>5.467308</td>\n",
       "      <td>5.5</td>\n",
       "    </tr>\n",
       "    <tr>\n",
       "      <th>1</th>\n",
       "      <td>4.3</td>\n",
       "      <td>5.8</td>\n",
       "      <td>5.006000</td>\n",
       "      <td>5.00</td>\n",
       "      <td>2.3</td>\n",
       "      <td>4.4</td>\n",
       "      <td>3.428000</td>\n",
       "      <td>3.4</td>\n",
       "      <td>0.1</td>\n",
       "      <td>0.6</td>\n",
       "      <td>0.246000</td>\n",
       "      <td>0.2</td>\n",
       "      <td>1.0</td>\n",
       "      <td>1.9</td>\n",
       "      <td>1.462000</td>\n",
       "      <td>1.5</td>\n",
       "    </tr>\n",
       "    <tr>\n",
       "      <th>2</th>\n",
       "      <td>4.9</td>\n",
       "      <td>6.6</td>\n",
       "      <td>5.783333</td>\n",
       "      <td>5.75</td>\n",
       "      <td>2.0</td>\n",
       "      <td>3.0</td>\n",
       "      <td>2.664583</td>\n",
       "      <td>2.7</td>\n",
       "      <td>1.0</td>\n",
       "      <td>2.0</td>\n",
       "      <td>1.350000</td>\n",
       "      <td>1.3</td>\n",
       "      <td>3.0</td>\n",
       "      <td>5.6</td>\n",
       "      <td>4.297917</td>\n",
       "      <td>4.3</td>\n",
       "    </tr>\n",
       "  </tbody>\n",
       "</table>\n",
       "</div>"
      ],
      "text/plain": [
       "        sepal_length                       sepal_width                        \\\n",
       "                 min  max      mean median         min  max      mean median   \n",
       "cluster                                                                        \n",
       "0                5.8  7.9  6.703846   6.70         2.5  3.8  3.063462    3.0   \n",
       "1                4.3  5.8  5.006000   5.00         2.3  4.4  3.428000    3.4   \n",
       "2                4.9  6.6  5.783333   5.75         2.0  3.0  2.664583    2.7   \n",
       "\n",
       "        petal_width                       petal_length                        \n",
       "                min  max      mean median          min  max      mean median  \n",
       "cluster                                                                       \n",
       "0               1.4  2.5  1.976923    2.0          4.4  6.9  5.467308    5.5  \n",
       "1               0.1  0.6  0.246000    0.2          1.0  1.9  1.462000    1.5  \n",
       "2               1.0  2.0  1.350000    1.3          3.0  5.6  4.297917    4.3  "
      ]
     },
     "metadata": {},
     "output_type": "display_data"
    }
   ],
   "source": [
    "display(df_gby)"
   ]
  },
  {
   "cell_type": "code",
   "execution_count": 20,
   "metadata": {},
   "outputs": [
    {
     "data": {
      "image/png": "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",
      "text/plain": [
       "<Figure size 800x600 with 1 Axes>"
      ]
     },
     "metadata": {},
     "output_type": "display_data"
    }
   ],
   "source": [
    "viz.elbow_method(df_result , max_clusters=10 )"
   ]
  },
  {
   "cell_type": "markdown",
   "metadata": {},
   "source": [
    "### Interprétation du tableau des clusters\n",
    "\n",
    "Ce tableau résume des statistiques descriptives pour différents clusters du jeu de données Iris. Ces clusters regroupent les fleurs en fonction de leurs similitudes, probablement à partir d’un algorithme de clustering comme K-Means.\n",
    "\n",
    "---\n",
    "\n",
    "### Points clés :\n",
    "\n",
    "1. **Clusters (0, 1, 2)** :\n",
    "   - Représentent des groupes de données (fleurs) ayant des caractéristiques similaires.\n",
    "\n",
    "2. **Statistiques pour chaque caractéristique** :\n",
    "   - **Sepal Length**, **Sepal Width**, **Petal Length** et **Petal Width** sont les caractéristiques mesurées des fleurs.\n",
    "   - Pour chaque caractéristique dans un cluster :\n",
    "     - **Min** : La plus petite valeur.\n",
    "     - **Max** : La plus grande valeur.\n",
    "     - **Mean** : La moyenne des valeurs.\n",
    "     - **Median** : La médiane (valeur centrale).\n",
    "\n",
    "---\n",
    "\n",
    "### Interprétation des clusters :\n",
    "\n",
    "1. **Cluster 0** :\n",
    "   - **Sepal Length** : Les plus petites fleurs (moyenne ~5.01, maximum 5.8).\n",
    "   - **Petal Length** et **Petal Width** : Très petites (moyennes 1.46 et 0.25), probablement correspondant à l’espèce *Iris Setosa*.\n",
    "\n",
    "2. **Cluster 1** :\n",
    "   - **Sepal Length** : Fleurs de taille moyenne (moyenne ~5.89).\n",
    "   - **Petal Length** et **Petal Width** : Plus grandes que celles du Cluster 0 (moyennes 4.39 et 1.41), probablement correspondant à *Iris Versicolor*.\n",
    "\n",
    "3. **Cluster 2** :\n",
    "   - **Sepal Length** : Les plus grandes fleurs (moyenne ~6.85).\n",
    "   - **Petal Length** et **Petal Width** : Significativement plus grandes (moyennes 5.7 et 2.08), probablement correspondant à *Iris Virginica*.\n",
    "\n",
    "---\n",
    "\n",
    "### Résumé :\n",
    "- **Cluster 0** : Petites fleurs, probablement *Iris Setosa*.\n",
    "- **Cluster 1** : Fleurs de taille intermédiaire, probablement *Iris Versicolor*.\n",
    "- **Cluster 2** : Grandes fleurs, probablement *Iris Virginica*.\n",
    "\n",
   
   ]
  }
 ],
 "metadata": {
  "kernelspec": {
   "display_name": "MovieMind",
   "language": "python",
   "name": "python3"
  },
  "language_info": {
   "codemirror_mode": {
    "name": "ipython",
    "version": 3
   },
   "file_extension": ".py",
   "mimetype": "text/x-python",
   "name": "python",
   "nbconvert_exporter": "python",
   "pygments_lexer": "ipython3",
   "version": "3.11.10"
  }
 },
 "nbformat": 4,
 "nbformat_minor": 2
}
